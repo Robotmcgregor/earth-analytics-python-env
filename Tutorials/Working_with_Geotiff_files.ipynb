{
  "nbformat": 4,
  "nbformat_minor": 0,
  "metadata": {
    "colab": {
      "name": "Working with Geotiff files.ipynb",
      "provenance": [],
      "mount_file_id": "1mb2TxjDtJ-VF2GZsKDxW0hDO1okUbvMM",
      "authorship_tag": "ABX9TyOhxE3rqVSnr26WhO5rGp5k",
      "include_colab_link": true
    },
    "kernelspec": {
      "name": "python3",
      "display_name": "Python 3"
    }
  },
  "cells": [
    {
      "cell_type": "markdown",
      "metadata": {
        "id": "view-in-github",
        "colab_type": "text"
      },
      "source": [
        "<a href=\"https://colab.research.google.com/github/Robotmcgregor/earth-analytics-python-env/blob/master/Working_with_Geotiff_files.ipynb\" target=\"_parent\"><img src=\"https://colab.research.google.com/assets/colab-badge.svg\" alt=\"Open In Colab\"/></a>"
      ]
    },
    {
      "cell_type": "markdown",
      "metadata": {
        "id": "BHaJweU14dS-",
        "colab_type": "text"
      },
      "source": [
        "#Working with Geotiff files"
      ]
    },
    {
      "cell_type": "code",
      "metadata": {
        "id": "s7_Afm014jmC",
        "colab_type": "code",
        "colab": {
          "base_uri": "https://localhost:8080/",
          "height": 326
        },
        "outputId": "e1ee60c7-be04-4ba5-9498-607f2bae2712"
      },
      "source": [
        "pip install rasterio"
      ],
      "execution_count": 1,
      "outputs": [
        {
          "output_type": "stream",
          "text": [
            "Collecting rasterio\n",
            "\u001b[?25l  Downloading https://files.pythonhosted.org/packages/02/7e/eed7dfd109fc89ed3cf8b5ed3f26f841b03b92f6ca1c31c4745f938a081b/rasterio-1.1.5-cp36-cp36m-manylinux1_x86_64.whl (18.2MB)\n",
            "\u001b[K     |████████████████████████████████| 18.2MB 40.2MB/s \n",
            "\u001b[?25hRequirement already satisfied: click<8,>=4.0 in /usr/local/lib/python3.6/dist-packages (from rasterio) (7.1.2)\n",
            "Collecting affine\n",
            "  Downloading https://files.pythonhosted.org/packages/ac/a6/1a39a1ede71210e3ddaf623982b06ecfc5c5c03741ae659073159184cd3e/affine-2.3.0-py2.py3-none-any.whl\n",
            "Collecting snuggs>=1.4.1\n",
            "  Downloading https://files.pythonhosted.org/packages/cc/0e/d27d6e806d6c0d1a2cfdc5d1f088e42339a0a54a09c3343f7f81ec8947ea/snuggs-1.4.7-py3-none-any.whl\n",
            "Requirement already satisfied: attrs in /usr/local/lib/python3.6/dist-packages (from rasterio) (19.3.0)\n",
            "Requirement already satisfied: numpy in /usr/local/lib/python3.6/dist-packages (from rasterio) (1.18.5)\n",
            "Collecting cligj>=0.5\n",
            "  Downloading https://files.pythonhosted.org/packages/e4/be/30a58b4b0733850280d01f8bd132591b4668ed5c7046761098d665ac2174/cligj-0.5.0-py3-none-any.whl\n",
            "Collecting click-plugins\n",
            "  Downloading https://files.pythonhosted.org/packages/e9/da/824b92d9942f4e472702488857914bdd50f73021efea15b4cad9aca8ecef/click_plugins-1.1.1-py2.py3-none-any.whl\n",
            "Requirement already satisfied: pyparsing>=2.1.6 in /usr/local/lib/python3.6/dist-packages (from snuggs>=1.4.1->rasterio) (2.4.7)\n",
            "Installing collected packages: affine, snuggs, cligj, click-plugins, rasterio\n",
            "Successfully installed affine-2.3.0 click-plugins-1.1.1 cligj-0.5.0 rasterio-1.1.5 snuggs-1.4.7\n"
          ],
          "name": "stdout"
        }
      ]
    },
    {
      "cell_type": "code",
      "metadata": {
        "id": "dU_lf5He4p0S",
        "colab_type": "code",
        "colab": {
          "base_uri": "https://localhost:8080/",
          "height": 938
        },
        "outputId": "200afb32-32f9-4a3c-b0b2-edfed285a852"
      },
      "source": [
        "pip install earthpy"
      ],
      "execution_count": 4,
      "outputs": [
        {
          "output_type": "stream",
          "text": [
            "Collecting earthpy\n",
            "\u001b[?25l  Downloading https://files.pythonhosted.org/packages/2d/ee/30cd183c5b58c967ec52bb3bd8decc0a1798f15c94898b84e6ee6b0baa39/earthpy-0.9.2.tar.gz (1.4MB)\n",
            "\u001b[K     |████████████████████████████████| 1.4MB 2.9MB/s \n",
            "\u001b[?25h  Installing build dependencies ... \u001b[?25l\u001b[?25hdone\n",
            "  Getting requirements to build wheel ... \u001b[?25l\u001b[?25hdone\n",
            "    Preparing wheel metadata ... \u001b[?25l\u001b[?25hdone\n",
            "Requirement already satisfied: requests in /usr/local/lib/python3.6/dist-packages (from earthpy) (2.23.0)\n",
            "Collecting geopandas\n",
            "\u001b[?25l  Downloading https://files.pythonhosted.org/packages/f7/a4/e66aafbefcbb717813bf3a355c8c4fc3ed04ea1dd7feb2920f2f4f868921/geopandas-0.8.1-py2.py3-none-any.whl (962kB)\n",
            "\u001b[K     |████████████████████████████████| 972kB 18.0MB/s \n",
            "\u001b[?25hRequirement already satisfied: rasterio in /usr/local/lib/python3.6/dist-packages (from earthpy) (1.1.5)\n",
            "Requirement already satisfied: numpy>=1.14.0 in /usr/local/lib/python3.6/dist-packages (from earthpy) (1.18.5)\n",
            "Requirement already satisfied: matplotlib>=2.0.0 in /usr/local/lib/python3.6/dist-packages (from earthpy) (3.2.2)\n",
            "Requirement already satisfied: scikit-image in /usr/local/lib/python3.6/dist-packages (from earthpy) (0.16.2)\n",
            "Requirement already satisfied: urllib3!=1.25.0,!=1.25.1,<1.26,>=1.21.1 in /usr/local/lib/python3.6/dist-packages (from requests->earthpy) (1.24.3)\n",
            "Requirement already satisfied: chardet<4,>=3.0.2 in /usr/local/lib/python3.6/dist-packages (from requests->earthpy) (3.0.4)\n",
            "Requirement already satisfied: idna<3,>=2.5 in /usr/local/lib/python3.6/dist-packages (from requests->earthpy) (2.10)\n",
            "Requirement already satisfied: certifi>=2017.4.17 in /usr/local/lib/python3.6/dist-packages (from requests->earthpy) (2020.6.20)\n",
            "Collecting pyproj>=2.2.0\n",
            "\u001b[?25l  Downloading https://files.pythonhosted.org/packages/e5/c3/071e080230ac4b6c64f1a2e2f9161c9737a2bc7b683d2c90b024825000c0/pyproj-2.6.1.post1-cp36-cp36m-manylinux2010_x86_64.whl (10.9MB)\n",
            "\u001b[K     |████████████████████████████████| 10.9MB 23.1MB/s \n",
            "\u001b[?25hRequirement already satisfied: pandas>=0.23.0 in /usr/local/lib/python3.6/dist-packages (from geopandas->earthpy) (1.0.5)\n",
            "Requirement already satisfied: shapely in /usr/local/lib/python3.6/dist-packages (from geopandas->earthpy) (1.7.0)\n",
            "Collecting fiona\n",
            "\u001b[?25l  Downloading https://files.pythonhosted.org/packages/ec/20/4e63bc5c6e62df889297b382c3ccd4a7a488b00946aaaf81a118158c6f09/Fiona-1.8.13.post1-cp36-cp36m-manylinux1_x86_64.whl (14.7MB)\n",
            "\u001b[K     |████████████████████████████████| 14.7MB 300kB/s \n",
            "\u001b[?25hRequirement already satisfied: attrs in /usr/local/lib/python3.6/dist-packages (from rasterio->earthpy) (19.3.0)\n",
            "Requirement already satisfied: snuggs>=1.4.1 in /usr/local/lib/python3.6/dist-packages (from rasterio->earthpy) (1.4.7)\n",
            "Requirement already satisfied: click<8,>=4.0 in /usr/local/lib/python3.6/dist-packages (from rasterio->earthpy) (7.1.2)\n",
            "Requirement already satisfied: click-plugins in /usr/local/lib/python3.6/dist-packages (from rasterio->earthpy) (1.1.1)\n",
            "Requirement already satisfied: affine in /usr/local/lib/python3.6/dist-packages (from rasterio->earthpy) (2.3.0)\n",
            "Requirement already satisfied: cligj>=0.5 in /usr/local/lib/python3.6/dist-packages (from rasterio->earthpy) (0.5.0)\n",
            "Requirement already satisfied: cycler>=0.10 in /usr/local/lib/python3.6/dist-packages (from matplotlib>=2.0.0->earthpy) (0.10.0)\n",
            "Requirement already satisfied: pyparsing!=2.0.4,!=2.1.2,!=2.1.6,>=2.0.1 in /usr/local/lib/python3.6/dist-packages (from matplotlib>=2.0.0->earthpy) (2.4.7)\n",
            "Requirement already satisfied: kiwisolver>=1.0.1 in /usr/local/lib/python3.6/dist-packages (from matplotlib>=2.0.0->earthpy) (1.2.0)\n",
            "Requirement already satisfied: python-dateutil>=2.1 in /usr/local/lib/python3.6/dist-packages (from matplotlib>=2.0.0->earthpy) (2.8.1)\n",
            "Requirement already satisfied: imageio>=2.3.0 in /usr/local/lib/python3.6/dist-packages (from scikit-image->earthpy) (2.4.1)\n",
            "Requirement already satisfied: networkx>=2.0 in /usr/local/lib/python3.6/dist-packages (from scikit-image->earthpy) (2.4)\n",
            "Requirement already satisfied: pillow>=4.3.0 in /usr/local/lib/python3.6/dist-packages (from scikit-image->earthpy) (7.0.0)\n",
            "Requirement already satisfied: PyWavelets>=0.4.0 in /usr/local/lib/python3.6/dist-packages (from scikit-image->earthpy) (1.1.1)\n",
            "Requirement already satisfied: scipy>=0.19.0 in /usr/local/lib/python3.6/dist-packages (from scikit-image->earthpy) (1.4.1)\n",
            "Requirement already satisfied: pytz>=2017.2 in /usr/local/lib/python3.6/dist-packages (from pandas>=0.23.0->geopandas->earthpy) (2018.9)\n",
            "Collecting munch\n",
            "  Downloading https://files.pythonhosted.org/packages/cc/ab/85d8da5c9a45e072301beb37ad7f833cd344e04c817d97e0cc75681d248f/munch-2.5.0-py2.py3-none-any.whl\n",
            "Requirement already satisfied: six>=1.7 in /usr/local/lib/python3.6/dist-packages (from fiona->geopandas->earthpy) (1.15.0)\n",
            "Requirement already satisfied: decorator>=4.3.0 in /usr/local/lib/python3.6/dist-packages (from networkx>=2.0->scikit-image->earthpy) (4.4.2)\n",
            "Building wheels for collected packages: earthpy\n",
            "  Building wheel for earthpy (PEP 517) ... \u001b[?25l\u001b[?25hdone\n",
            "  Created wheel for earthpy: filename=earthpy-0.9.2-cp36-none-any.whl size=1365087 sha256=41332e8e56a1d5072fbe8be81793ad3cf2cb10e2820e1339473de77eb4edbf63\n",
            "  Stored in directory: /root/.cache/pip/wheels/27/f9/a5/026bb95ef7b12f9343b842da6897b4001c5b902550095cbbbe\n",
            "Successfully built earthpy\n",
            "Installing collected packages: pyproj, munch, fiona, geopandas, earthpy\n",
            "Successfully installed earthpy-0.9.2 fiona-1.8.13.post1 geopandas-0.8.1 munch-2.5.0 pyproj-2.6.1.post1\n"
          ],
          "name": "stdout"
        }
      ]
    },
    {
      "cell_type": "code",
      "metadata": {
        "id": "JYVdev-54rjB",
        "colab_type": "code",
        "colab": {}
      },
      "source": [
        "import rasterio as rio\n",
        "import earthpy as et"
      ],
      "execution_count": 5,
      "outputs": []
    },
    {
      "cell_type": "code",
      "metadata": {
        "id": "EKujtIsy4yE6",
        "colab_type": "code",
        "colab": {}
      },
      "source": [
        "path = (\"/content/drive/My Drive/earth-analytics/colorado-flood/spatial/boulder-leehill-rd/pre-flood/lidar/pre_DTM.tif\")"
      ],
      "execution_count": 6,
      "outputs": []
    },
    {
      "cell_type": "code",
      "metadata": {
        "id": "UoZXdXzj5S_R",
        "colab_type": "code",
        "colab": {}
      },
      "source": [
        "#open a geotiff file\n",
        "with rio.open(path) as lidar_dem:\n",
        "  lidar_dem.bounds"
      ],
      "execution_count": 8,
      "outputs": []
    },
    {
      "cell_type": "code",
      "metadata": {
        "id": "0UqNLY0L5mEx",
        "colab_type": "code",
        "colab": {
          "base_uri": "https://localhost:8080/",
          "height": 170
        },
        "outputId": "80c0b9c8-53ba-4b1c-b50b-d177ff451b8a"
      },
      "source": [
        "lidar_dem.meta"
      ],
      "execution_count": 11,
      "outputs": [
        {
          "output_type": "execute_result",
          "data": {
            "text/plain": [
              "{'count': 1,\n",
              " 'crs': CRS.from_epsg(32613),\n",
              " 'driver': 'GTiff',\n",
              " 'dtype': 'float32',\n",
              " 'height': 2000,\n",
              " 'nodata': -3.4028234663852886e+38,\n",
              " 'transform': Affine(1.0, 0.0, 472000.0,\n",
              "       0.0, -1.0, 4436000.0),\n",
              " 'width': 4000}"
            ]
          },
          "metadata": {
            "tags": []
          },
          "execution_count": 11
        }
      ]
    },
    {
      "cell_type": "code",
      "metadata": {
        "id": "GdQ9RNJw5u3A",
        "colab_type": "code",
        "colab": {
          "base_uri": "https://localhost:8080/",
          "height": 34
        },
        "outputId": "2d64bbcf-a1e5-4d89-f586-a7c926b3da49"
      },
      "source": [
        "#check spatial resolution\n",
        "lidar_dem.res #1x1m\n"
      ],
      "execution_count": 12,
      "outputs": [
        {
          "output_type": "execute_result",
          "data": {
            "text/plain": [
              "(1.0, 1.0)"
            ]
          },
          "metadata": {
            "tags": []
          },
          "execution_count": 12
        }
      ]
    },
    {
      "cell_type": "code",
      "metadata": {
        "id": "h5Y14b0g6268",
        "colab_type": "code",
        "colab": {
          "base_uri": "https://localhost:8080/",
          "height": 34
        },
        "outputId": "bbcf32a8-d429-4bb2-eb50-08908aa32057"
      },
      "source": [
        "# View image structure\n",
        "with rio.open(path) as lidar_dem:\n",
        "    print(lidar_dem.tags(ns='IMAGE_STRUCTURE'))\n",
        "    lidar_dem_mask = lidar_dem.dataset_mask()"
      ],
      "execution_count": 20,
      "outputs": [
        {
          "output_type": "stream",
          "text": [
            "{'COMPRESSION': 'LZW', 'INTERLEAVE': 'BAND'}\n"
          ],
          "name": "stdout"
        }
      ]
    },
    {
      "cell_type": "code",
      "metadata": {
        "id": "wdUdDzJr6Htg",
        "colab_type": "code",
        "colab": {
          "base_uri": "https://localhost:8080/",
          "height": 34
        },
        "outputId": "963b91b5-eaa9-4151-d33e-e46a945b0205"
      },
      "source": [
        "#view image structure\n",
        "with rio.open(path) as lidar_dem:\n",
        "  print(lidar_dem.tags())\n",
        "  lidar_dem_mask= lidar_dem.dataset_mask()"
      ],
      "execution_count": 17,
      "outputs": [
        {
          "output_type": "stream",
          "text": [
            "{'AREA_OR_POINT': 'Area'}\n"
          ],
          "name": "stdout"
        }
      ]
    },
    {
      "cell_type": "code",
      "metadata": {
        "id": "jydk0APX6dMw",
        "colab_type": "code",
        "colab": {
          "base_uri": "https://localhost:8080/",
          "height": 136
        },
        "outputId": "79318f13-cd1f-4a8d-e546-d81a0f935bdf"
      },
      "source": [
        "lidar_dem_mask # 0 = no data, 255 = usable data"
      ],
      "execution_count": 18,
      "outputs": [
        {
          "output_type": "execute_result",
          "data": {
            "text/plain": [
              "array([[  0,   0,   0, ..., 255, 255, 255],\n",
              "       [  0,   0,   0, ..., 255, 255, 255],\n",
              "       [  0,   0,   0, ..., 255, 255, 255],\n",
              "       ...,\n",
              "       [  0,   0,   0, ..., 255, 255, 255],\n",
              "       [  0,   0,   0, ..., 255, 255, 255],\n",
              "       [  0,   0,   0, ..., 255, 255, 255]], dtype=uint8)"
            ]
          },
          "metadata": {
            "tags": []
          },
          "execution_count": 18
        }
      ]
    },
    {
      "cell_type": "code",
      "metadata": {
        "id": "MOeFfvRk7EzQ",
        "colab_type": "code",
        "colab": {
          "base_uri": "https://localhost:8080/",
          "height": 34
        },
        "outputId": "615d5491-389c-4d88-f60e-e6ca5c4ca933"
      },
      "source": [
        "print(\"CRS: \", lidar_dem.crs)"
      ],
      "execution_count": 21,
      "outputs": [
        {
          "output_type": "stream",
          "text": [
            "CRS:  EPSG:32613\n"
          ],
          "name": "stdout"
        }
      ]
    },
    {
      "cell_type": "code",
      "metadata": {
        "id": "z4rliji170c_",
        "colab_type": "code",
        "colab": {
          "base_uri": "https://localhost:8080/",
          "height": 34
        },
        "outputId": "99de711a-acd9-4487-ba54-2403020c332e"
      },
      "source": [
        "print(\"Bounds: \", lidar_dem.bounds)"
      ],
      "execution_count": 22,
      "outputs": [
        {
          "output_type": "stream",
          "text": [
            "Bounds:  BoundingBox(left=472000.0, bottom=4434000.0, right=476000.0, top=4436000.0)\n"
          ],
          "name": "stdout"
        }
      ]
    },
    {
      "cell_type": "code",
      "metadata": {
        "id": "45nrvkjX8FlA",
        "colab_type": "code",
        "colab": {}
      },
      "source": [
        "dsm_path = (\"/content/drive/My Drive/earth-analytics/colorado-flood/spatial/boulder-leehill-rd/pre-flood/lidar/pre_DSM.tif\")"
      ],
      "execution_count": 25,
      "outputs": []
    },
    {
      "cell_type": "code",
      "metadata": {
        "id": "TRu-uCTo76IQ",
        "colab_type": "code",
        "colab": {}
      },
      "source": [
        "# Open lidar dsm\n",
        "with rio.open(dsm_path) as lidar_dsm:\n",
        "    extent_lidar_dsm = lidar_dsm.bounds "
      ],
      "execution_count": 26,
      "outputs": []
    },
    {
      "cell_type": "markdown",
      "metadata": {
        "id": "Tp-hNkWZ8J2P",
        "colab_type": "text"
      },
      "source": [
        "Check the spatail extent of two images"
      ]
    },
    {
      "cell_type": "code",
      "metadata": {
        "id": "l-iPa7ni8Xtw",
        "colab_type": "code",
        "colab": {
          "base_uri": "https://localhost:8080/",
          "height": 34
        },
        "outputId": "f2e3df37-00f5-4532-aa68-f486d8ee9b10"
      },
      "source": [
        "if lidar_dem.bounds == lidar_dsm.bounds:\n",
        "  print(\"Same extent.\")"
      ],
      "execution_count": 28,
      "outputs": [
        {
          "output_type": "stream",
          "text": [
            "Same extent.\n"
          ],
          "name": "stdout"
        }
      ]
    },
    {
      "cell_type": "markdown",
      "metadata": {
        "id": "KA_JF3se8pcf",
        "colab_type": "text"
      },
      "source": [
        "Check resolution"
      ]
    },
    {
      "cell_type": "code",
      "metadata": {
        "id": "PDP5RR8o8h-H",
        "colab_type": "code",
        "colab": {
          "base_uri": "https://localhost:8080/",
          "height": 34
        },
        "outputId": "8441e428-fe3b-493d-9919-f92bcfb63f19"
      },
      "source": [
        "if lidar_dem.res == lidar_dsm.res:\n",
        "  print(\"Same resolution.\")"
      ],
      "execution_count": 29,
      "outputs": [
        {
          "output_type": "stream",
          "text": [
            "Same resolution.\n"
          ],
          "name": "stdout"
        }
      ]
    },
    {
      "cell_type": "code",
      "metadata": {
        "id": "llVz1ASf8zYo",
        "colab_type": "code",
        "colab": {
          "base_uri": "https://localhost:8080/",
          "height": 34
        },
        "outputId": "effb10f3-2f52-4e27-9ca5-2fa1e2eeee01"
      },
      "source": [
        "lidar_dsm.crs.data # Get crs of a rasterio object"
      ],
      "execution_count": 31,
      "outputs": [
        {
          "output_type": "execute_result",
          "data": {
            "text/plain": [
              "{'init': 'epsg:32613'}"
            ]
          },
          "metadata": {
            "tags": []
          },
          "execution_count": 31
        }
      ]
    },
    {
      "cell_type": "code",
      "metadata": {
        "id": "8EA4RHuP9A4H",
        "colab_type": "code",
        "colab": {
          "base_uri": "https://localhost:8080/",
          "height": 35
        },
        "outputId": "bc5d9a5c-e3f1-4e9a-a433-1a7d3304e330"
      },
      "source": [
        "et.epsg['32613']"
      ],
      "execution_count": 32,
      "outputs": [
        {
          "output_type": "execute_result",
          "data": {
            "application/vnd.google.colaboratory.intrinsic+json": {
              "type": "string"
            },
            "text/plain": [
              "'+proj=utm +zone=13 +datum=WGS84 +units=m +no_defs'"
            ]
          },
          "metadata": {
            "tags": []
          },
          "execution_count": 32
        }
      ]
    },
    {
      "cell_type": "markdown",
      "metadata": {
        "id": "z-ibZVFb9Lfo",
        "colab_type": "text"
      },
      "source": [
        "Single Layer (or Band) vs Multi-Layer (Band Geotiffs)"
      ]
    },
    {
      "cell_type": "code",
      "metadata": {
        "id": "5ho9Zv6f9P-n",
        "colab_type": "code",
        "colab": {
          "base_uri": "https://localhost:8080/",
          "height": 34
        },
        "outputId": "eac27602-688c-4675-9417-00c653e52699"
      },
      "source": [
        "print(lidar_dsm.count) # (i.e. 1 band)"
      ],
      "execution_count": 33,
      "outputs": [
        {
          "output_type": "stream",
          "text": [
            "1\n"
          ],
          "name": "stdout"
        }
      ]
    },
    {
      "cell_type": "markdown",
      "metadata": {
        "id": "t_lfpzZC9S6g",
        "colab_type": "text"
      },
      "source": [
        "Another way to see the number of bands is to use the .indexes attribute."
      ]
    },
    {
      "cell_type": "code",
      "metadata": {
        "id": "1QdiyJ429Y0Q",
        "colab_type": "code",
        "colab": {
          "base_uri": "https://localhost:8080/",
          "height": 34
        },
        "outputId": "15fb0709-0ac4-4180-ea38-ca3cb7926c8d"
      },
      "source": [
        "print(\"number of bands\", lidar_dsm.indexes)"
      ],
      "execution_count": 35,
      "outputs": [
        {
          "output_type": "stream",
          "text": [
            "number of bands (1,)\n"
          ],
          "name": "stdout"
        }
      ]
    },
    {
      "cell_type": "code",
      "metadata": {
        "id": "leFbtjBi9bN4",
        "colab_type": "code",
        "colab": {}
      },
      "source": [
        ""
      ],
      "execution_count": null,
      "outputs": []
    }
  ]
}
