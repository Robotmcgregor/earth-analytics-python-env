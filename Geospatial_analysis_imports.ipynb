{
  "nbformat": 4,
  "nbformat_minor": 0,
  "metadata": {
    "colab": {
      "name": "Geospatial_analysis_imports.ipynb",
      "provenance": [],
      "authorship_tag": "ABX9TyP117+/jtzUwa34MyQ8bZyM",
      "include_colab_link": true
    },
    "kernelspec": {
      "name": "python3",
      "display_name": "Python 3"
    }
  },
  "cells": [
    {
      "cell_type": "markdown",
      "metadata": {
        "id": "view-in-github",
        "colab_type": "text"
      },
      "source": [
        "<a href=\"https://colab.research.google.com/github/Robotmcgregor/earth-analytics-python-env/blob/master/Geospatial_analysis_imports.ipynb\" target=\"_parent\"><img src=\"https://colab.research.google.com/assets/colab-badge.svg\" alt=\"Open In Colab\"/></a>"
      ]
    },
    {
      "cell_type": "markdown",
      "metadata": {
        "id": "r66c9Q1qOOFt",
        "colab_type": "text"
      },
      "source": [
        "# Pip install geospatial assessment packages"
      ]
    },
    {
      "cell_type": "code",
      "metadata": {
        "id": "16uM2ubatJYo",
        "colab_type": "code",
        "colab": {
          "base_uri": "https://localhost:8080/",
          "height": 258
        },
        "outputId": "de795aed-bd6b-436d-c592-bf907cddb605"
      },
      "source": [
        "pip install geos"
      ],
      "execution_count": 4,
      "outputs": [
        {
          "output_type": "stream",
          "text": [
            "Collecting geos\n",
            "\u001b[?25l  Downloading https://files.pythonhosted.org/packages/7a/1c/a7ae7e2685719b31dbde13e90c6386f872b8ee2670d833f4211b4e3d5106/geos-0.2.2-py3-none-any.whl (368kB)\n",
            "\r\u001b[K     |█                               | 10kB 18.6MB/s eta 0:00:01\r\u001b[K     |█▉                              | 20kB 1.6MB/s eta 0:00:01\r\u001b[K     |██▊                             | 30kB 1.8MB/s eta 0:00:01\r\u001b[K     |███▋                            | 40kB 2.1MB/s eta 0:00:01\r\u001b[K     |████▌                           | 51kB 2.0MB/s eta 0:00:01\r\u001b[K     |█████▍                          | 61kB 2.2MB/s eta 0:00:01\r\u001b[K     |██████▎                         | 71kB 2.4MB/s eta 0:00:01\r\u001b[K     |███████▏                        | 81kB 2.6MB/s eta 0:00:01\r\u001b[K     |████████                        | 92kB 2.7MB/s eta 0:00:01\r\u001b[K     |█████████                       | 102kB 2.7MB/s eta 0:00:01\r\u001b[K     |█████████▉                      | 112kB 2.7MB/s eta 0:00:01\r\u001b[K     |██████████▊                     | 122kB 2.7MB/s eta 0:00:01\r\u001b[K     |███████████▋                    | 133kB 2.7MB/s eta 0:00:01\r\u001b[K     |████████████▌                   | 143kB 2.7MB/s eta 0:00:01\r\u001b[K     |█████████████▍                  | 153kB 2.7MB/s eta 0:00:01\r\u001b[K     |██████████████▎                 | 163kB 2.7MB/s eta 0:00:01\r\u001b[K     |███████████████▏                | 174kB 2.7MB/s eta 0:00:01\r\u001b[K     |████████████████                | 184kB 2.7MB/s eta 0:00:01\r\u001b[K     |█████████████████               | 194kB 2.7MB/s eta 0:00:01\r\u001b[K     |█████████████████▉              | 204kB 2.7MB/s eta 0:00:01\r\u001b[K     |██████████████████▊             | 215kB 2.7MB/s eta 0:00:01\r\u001b[K     |███████████████████▋            | 225kB 2.7MB/s eta 0:00:01\r\u001b[K     |████████████████████▌           | 235kB 2.7MB/s eta 0:00:01\r\u001b[K     |█████████████████████▍          | 245kB 2.7MB/s eta 0:00:01\r\u001b[K     |██████████████████████▎         | 256kB 2.7MB/s eta 0:00:01\r\u001b[K     |███████████████████████▏        | 266kB 2.7MB/s eta 0:00:01\r\u001b[K     |████████████████████████        | 276kB 2.7MB/s eta 0:00:01\r\u001b[K     |█████████████████████████       | 286kB 2.7MB/s eta 0:00:01\r\u001b[K     |█████████████████████████▉      | 296kB 2.7MB/s eta 0:00:01\r\u001b[K     |██████████████████████████▊     | 307kB 2.7MB/s eta 0:00:01\r\u001b[K     |███████████████████████████▋    | 317kB 2.7MB/s eta 0:00:01\r\u001b[K     |████████████████████████████▌   | 327kB 2.7MB/s eta 0:00:01\r\u001b[K     |█████████████████████████████▍  | 337kB 2.7MB/s eta 0:00:01\r\u001b[K     |██████████████████████████████▎ | 348kB 2.7MB/s eta 0:00:01\r\u001b[K     |███████████████████████████████▏| 358kB 2.7MB/s eta 0:00:01\r\u001b[K     |████████████████████████████████| 368kB 2.7MB/s \n",
            "\u001b[?25hRequirement already satisfied: pillow in /usr/local/lib/python3.6/dist-packages (from geos) (7.0.0)\n",
            "Requirement already satisfied: lxml in /usr/local/lib/python3.6/dist-packages (from geos) (4.2.6)\n",
            "Requirement already satisfied: flask in /usr/local/lib/python3.6/dist-packages (from geos) (1.1.2)\n",
            "Requirement already satisfied: itsdangerous>=0.24 in /usr/local/lib/python3.6/dist-packages (from flask->geos) (1.1.0)\n",
            "Requirement already satisfied: Jinja2>=2.10.1 in /usr/local/lib/python3.6/dist-packages (from flask->geos) (2.11.2)\n",
            "Requirement already satisfied: click>=5.1 in /usr/local/lib/python3.6/dist-packages (from flask->geos) (7.1.2)\n",
            "Requirement already satisfied: Werkzeug>=0.15 in /usr/local/lib/python3.6/dist-packages (from flask->geos) (1.0.1)\n",
            "Requirement already satisfied: MarkupSafe>=0.23 in /usr/local/lib/python3.6/dist-packages (from Jinja2>=2.10.1->flask->geos) (1.1.1)\n",
            "Installing collected packages: geos\n",
            "Successfully installed geos-0.2.2\n"
          ],
          "name": "stdout"
        }
      ]
    },
    {
      "cell_type": "code",
      "metadata": {
        "id": "wf4kRFGfMy5G",
        "colab_type": "code",
        "colab": {
          "base_uri": "https://localhost:8080/",
          "height": 275
        },
        "outputId": "113e34ac-9e96-46dc-ff34-572635471661"
      },
      "source": [
        "pip install fiona"
      ],
      "execution_count": 8,
      "outputs": [
        {
          "output_type": "stream",
          "text": [
            "Collecting fiona\n",
            "\u001b[?25l  Downloading https://files.pythonhosted.org/packages/ec/20/4e63bc5c6e62df889297b382c3ccd4a7a488b00946aaaf81a118158c6f09/Fiona-1.8.13.post1-cp36-cp36m-manylinux1_x86_64.whl (14.7MB)\n",
            "\u001b[K     |████████████████████████████████| 14.7MB 2.3MB/s \n",
            "\u001b[?25hCollecting click-plugins>=1.0\n",
            "  Downloading https://files.pythonhosted.org/packages/e9/da/824b92d9942f4e472702488857914bdd50f73021efea15b4cad9aca8ecef/click_plugins-1.1.1-py2.py3-none-any.whl\n",
            "Requirement already satisfied: six>=1.7 in /usr/local/lib/python3.6/dist-packages (from fiona) (1.15.0)\n",
            "Collecting cligj>=0.5\n",
            "  Downloading https://files.pythonhosted.org/packages/e4/be/30a58b4b0733850280d01f8bd132591b4668ed5c7046761098d665ac2174/cligj-0.5.0-py3-none-any.whl\n",
            "Requirement already satisfied: click<8,>=4.0 in /usr/local/lib/python3.6/dist-packages (from fiona) (7.1.2)\n",
            "Collecting munch\n",
            "  Downloading https://files.pythonhosted.org/packages/cc/ab/85d8da5c9a45e072301beb37ad7f833cd344e04c817d97e0cc75681d248f/munch-2.5.0-py2.py3-none-any.whl\n",
            "Requirement already satisfied: attrs>=17 in /usr/local/lib/python3.6/dist-packages (from fiona) (19.3.0)\n",
            "Installing collected packages: click-plugins, cligj, munch, fiona\n",
            "Successfully installed click-plugins-1.1.1 cligj-0.5.0 fiona-1.8.13.post1 munch-2.5.0\n"
          ],
          "name": "stdout"
        }
      ]
    },
    {
      "cell_type": "code",
      "metadata": {
        "id": "cV7UxSa-NWDN",
        "colab_type": "code",
        "colab": {
          "base_uri": "https://localhost:8080/",
          "height": 207
        },
        "outputId": "9f2aba2b-fb10-45c1-f5ea-594f0ed6744a"
      },
      "source": [
        "pip install pyshp"
      ],
      "execution_count": 14,
      "outputs": [
        {
          "output_type": "stream",
          "text": [
            "Collecting pyshp\n",
            "\u001b[?25l  Downloading https://files.pythonhosted.org/packages/27/16/3bf15aa864fb77845fab8007eda22c2bd67bd6c1fd13496df452c8c43621/pyshp-2.1.0.tar.gz (215kB)\n",
            "\r\u001b[K     |█▌                              | 10kB 13.3MB/s eta 0:00:01\r\u001b[K     |███                             | 20kB 1.7MB/s eta 0:00:01\r\u001b[K     |████▋                           | 30kB 2.2MB/s eta 0:00:01\r\u001b[K     |██████                          | 40kB 2.5MB/s eta 0:00:01\r\u001b[K     |███████▋                        | 51kB 2.0MB/s eta 0:00:01\r\u001b[K     |█████████▏                      | 61kB 2.3MB/s eta 0:00:01\r\u001b[K     |██████████▋                     | 71kB 2.5MB/s eta 0:00:01\r\u001b[K     |████████████▏                   | 81kB 2.7MB/s eta 0:00:01\r\u001b[K     |█████████████▊                  | 92kB 2.9MB/s eta 0:00:01\r\u001b[K     |███████████████▏                | 102kB 2.8MB/s eta 0:00:01\r\u001b[K     |████████████████▊               | 112kB 2.8MB/s eta 0:00:01\r\u001b[K     |██████████████████▎             | 122kB 2.8MB/s eta 0:00:01\r\u001b[K     |███████████████████▉            | 133kB 2.8MB/s eta 0:00:01\r\u001b[K     |█████████████████████▎          | 143kB 2.8MB/s eta 0:00:01\r\u001b[K     |██████████████████████▉         | 153kB 2.8MB/s eta 0:00:01\r\u001b[K     |████████████████████████▍       | 163kB 2.8MB/s eta 0:00:01\r\u001b[K     |█████████████████████████▉      | 174kB 2.8MB/s eta 0:00:01\r\u001b[K     |███████████████████████████▍    | 184kB 2.8MB/s eta 0:00:01\r\u001b[K     |█████████████████████████████   | 194kB 2.8MB/s eta 0:00:01\r\u001b[K     |██████████████████████████████▍ | 204kB 2.8MB/s eta 0:00:01\r\u001b[K     |████████████████████████████████| 215kB 2.8MB/s eta 0:00:01\r\u001b[K     |████████████████████████████████| 225kB 2.8MB/s \n",
            "\u001b[?25hBuilding wheels for collected packages: pyshp\n",
            "  Building wheel for pyshp (setup.py) ... \u001b[?25l\u001b[?25hdone\n",
            "  Created wheel for pyshp: filename=pyshp-2.1.0-cp36-none-any.whl size=32609 sha256=f5f6636aca7f1550176e62a2ca812879633f6f86c16a40880560f134bd0e9296\n",
            "  Stored in directory: /root/.cache/pip/wheels/a6/0c/de/321b5192ad416b328975a2f0385f72c64db4656501eba7cc1a\n",
            "Successfully built pyshp\n",
            "Installing collected packages: pyshp\n",
            "Successfully installed pyshp-2.1.0\n"
          ],
          "name": "stdout"
        }
      ]
    },
    {
      "cell_type": "code",
      "metadata": {
        "id": "eozA4yBQM5L8",
        "colab_type": "code",
        "colab": {
          "base_uri": "https://localhost:8080/",
          "height": 122
        },
        "outputId": "4d15e97e-dd8b-470a-c56f-1ff56ff1e347"
      },
      "source": [
        "pip install pyproj"
      ],
      "execution_count": 13,
      "outputs": [
        {
          "output_type": "stream",
          "text": [
            "Collecting pyproj\n",
            "\u001b[?25l  Downloading https://files.pythonhosted.org/packages/e5/c3/071e080230ac4b6c64f1a2e2f9161c9737a2bc7b683d2c90b024825000c0/pyproj-2.6.1.post1-cp36-cp36m-manylinux2010_x86_64.whl (10.9MB)\n",
            "\u001b[K     |████████████████████████████████| 10.9MB 11.2MB/s \n",
            "\u001b[?25hInstalling collected packages: pyproj\n",
            "Successfully installed pyproj-2.6.1.post1\n"
          ],
          "name": "stdout"
        }
      ]
    },
    {
      "cell_type": "code",
      "metadata": {
        "id": "RGaMKSv_thmg",
        "colab_type": "code",
        "colab": {
          "base_uri": "https://localhost:8080/",
          "height": 292
        },
        "outputId": "429cf599-975a-4d12-cf46-790b9f4f20e5"
      },
      "source": [
        "pip install rasterio"
      ],
      "execution_count": 15,
      "outputs": [
        {
          "output_type": "stream",
          "text": [
            "Collecting rasterio\n",
            "\u001b[?25l  Downloading https://files.pythonhosted.org/packages/02/7e/eed7dfd109fc89ed3cf8b5ed3f26f841b03b92f6ca1c31c4745f938a081b/rasterio-1.1.5-cp36-cp36m-manylinux1_x86_64.whl (18.2MB)\n",
            "\u001b[K     |████████████████████████████████| 18.2MB 2.4MB/s \n",
            "\u001b[?25hCollecting snuggs>=1.4.1\n",
            "  Downloading https://files.pythonhosted.org/packages/cc/0e/d27d6e806d6c0d1a2cfdc5d1f088e42339a0a54a09c3343f7f81ec8947ea/snuggs-1.4.7-py3-none-any.whl\n",
            "Requirement already satisfied: cligj>=0.5 in /usr/local/lib/python3.6/dist-packages (from rasterio) (0.5.0)\n",
            "Requirement already satisfied: click-plugins in /usr/local/lib/python3.6/dist-packages (from rasterio) (1.1.1)\n",
            "Requirement already satisfied: click<8,>=4.0 in /usr/local/lib/python3.6/dist-packages (from rasterio) (7.1.2)\n",
            "Collecting affine\n",
            "  Downloading https://files.pythonhosted.org/packages/ac/a6/1a39a1ede71210e3ddaf623982b06ecfc5c5c03741ae659073159184cd3e/affine-2.3.0-py2.py3-none-any.whl\n",
            "Requirement already satisfied: attrs in /usr/local/lib/python3.6/dist-packages (from rasterio) (19.3.0)\n",
            "Requirement already satisfied: numpy in /usr/local/lib/python3.6/dist-packages (from rasterio) (1.18.5)\n",
            "Requirement already satisfied: pyparsing>=2.1.6 in /usr/local/lib/python3.6/dist-packages (from snuggs>=1.4.1->rasterio) (2.4.7)\n",
            "Installing collected packages: snuggs, affine, rasterio\n",
            "Successfully installed affine-2.3.0 rasterio-1.1.5 snuggs-1.4.7\n"
          ],
          "name": "stdout"
        }
      ]
    },
    {
      "cell_type": "code",
      "metadata": {
        "id": "UP4BHgaCNis8",
        "colab_type": "code",
        "colab": {
          "base_uri": "https://localhost:8080/",
          "height": 343
        },
        "outputId": "0e7b76bd-81ee-488a-cd7b-acd485a2f6f2"
      },
      "source": [
        "pip install geopandas"
      ],
      "execution_count": 17,
      "outputs": [
        {
          "output_type": "stream",
          "text": [
            "Collecting geopandas\n",
            "\u001b[?25l  Downloading https://files.pythonhosted.org/packages/f7/a4/e66aafbefcbb717813bf3a355c8c4fc3ed04ea1dd7feb2920f2f4f868921/geopandas-0.8.1-py2.py3-none-any.whl (962kB)\n",
            "\r\u001b[K     |▍                               | 10kB 17.6MB/s eta 0:00:01\r\u001b[K     |▊                               | 20kB 1.7MB/s eta 0:00:01\r\u001b[K     |█                               | 30kB 2.1MB/s eta 0:00:01\r\u001b[K     |█▍                              | 40kB 2.5MB/s eta 0:00:01\r\u001b[K     |█▊                              | 51kB 1.9MB/s eta 0:00:01\r\u001b[K     |██                              | 61kB 2.2MB/s eta 0:00:01\r\u001b[K     |██▍                             | 71kB 2.4MB/s eta 0:00:01\r\u001b[K     |██▊                             | 81kB 2.6MB/s eta 0:00:01\r\u001b[K     |███                             | 92kB 2.8MB/s eta 0:00:01\r\u001b[K     |███▍                            | 102kB 2.7MB/s eta 0:00:01\r\u001b[K     |███▊                            | 112kB 2.7MB/s eta 0:00:01\r\u001b[K     |████                            | 122kB 2.7MB/s eta 0:00:01\r\u001b[K     |████▍                           | 133kB 2.7MB/s eta 0:00:01\r\u001b[K     |████▊                           | 143kB 2.7MB/s eta 0:00:01\r\u001b[K     |█████                           | 153kB 2.7MB/s eta 0:00:01\r\u001b[K     |█████▌                          | 163kB 2.7MB/s eta 0:00:01\r\u001b[K     |█████▉                          | 174kB 2.7MB/s eta 0:00:01\r\u001b[K     |██████▏                         | 184kB 2.7MB/s eta 0:00:01\r\u001b[K     |██████▌                         | 194kB 2.7MB/s eta 0:00:01\r\u001b[K     |██████▉                         | 204kB 2.7MB/s eta 0:00:01\r\u001b[K     |███████▏                        | 215kB 2.7MB/s eta 0:00:01\r\u001b[K     |███████▌                        | 225kB 2.7MB/s eta 0:00:01\r\u001b[K     |███████▉                        | 235kB 2.7MB/s eta 0:00:01\r\u001b[K     |████████▏                       | 245kB 2.7MB/s eta 0:00:01\r\u001b[K     |████████▌                       | 256kB 2.7MB/s eta 0:00:01\r\u001b[K     |████████▉                       | 266kB 2.7MB/s eta 0:00:01\r\u001b[K     |█████████▏                      | 276kB 2.7MB/s eta 0:00:01\r\u001b[K     |█████████▌                      | 286kB 2.7MB/s eta 0:00:01\r\u001b[K     |█████████▉                      | 296kB 2.7MB/s eta 0:00:01\r\u001b[K     |██████████▏                     | 307kB 2.7MB/s eta 0:00:01\r\u001b[K     |██████████▌                     | 317kB 2.7MB/s eta 0:00:01\r\u001b[K     |███████████                     | 327kB 2.7MB/s eta 0:00:01\r\u001b[K     |███████████▎                    | 337kB 2.7MB/s eta 0:00:01\r\u001b[K     |███████████▋                    | 348kB 2.7MB/s eta 0:00:01\r\u001b[K     |████████████                    | 358kB 2.7MB/s eta 0:00:01\r\u001b[K     |████████████▎                   | 368kB 2.7MB/s eta 0:00:01\r\u001b[K     |████████████▋                   | 378kB 2.7MB/s eta 0:00:01\r\u001b[K     |█████████████                   | 389kB 2.7MB/s eta 0:00:01\r\u001b[K     |█████████████▎                  | 399kB 2.7MB/s eta 0:00:01\r\u001b[K     |█████████████▋                  | 409kB 2.7MB/s eta 0:00:01\r\u001b[K     |██████████████                  | 419kB 2.7MB/s eta 0:00:01\r\u001b[K     |██████████████▎                 | 430kB 2.7MB/s eta 0:00:01\r\u001b[K     |██████████████▋                 | 440kB 2.7MB/s eta 0:00:01\r\u001b[K     |███████████████                 | 450kB 2.7MB/s eta 0:00:01\r\u001b[K     |███████████████▎                | 460kB 2.7MB/s eta 0:00:01\r\u001b[K     |███████████████▋                | 471kB 2.7MB/s eta 0:00:01\r\u001b[K     |████████████████                | 481kB 2.7MB/s eta 0:00:01\r\u001b[K     |████████████████▍               | 491kB 2.7MB/s eta 0:00:01\r\u001b[K     |████████████████▊               | 501kB 2.7MB/s eta 0:00:01\r\u001b[K     |█████████████████               | 512kB 2.7MB/s eta 0:00:01\r\u001b[K     |█████████████████▍              | 522kB 2.7MB/s eta 0:00:01\r\u001b[K     |█████████████████▊              | 532kB 2.7MB/s eta 0:00:01\r\u001b[K     |██████████████████              | 542kB 2.7MB/s eta 0:00:01\r\u001b[K     |██████████████████▍             | 552kB 2.7MB/s eta 0:00:01\r\u001b[K     |██████████████████▊             | 563kB 2.7MB/s eta 0:00:01\r\u001b[K     |███████████████████             | 573kB 2.7MB/s eta 0:00:01\r\u001b[K     |███████████████████▍            | 583kB 2.7MB/s eta 0:00:01\r\u001b[K     |███████████████████▊            | 593kB 2.7MB/s eta 0:00:01\r\u001b[K     |████████████████████            | 604kB 2.7MB/s eta 0:00:01\r\u001b[K     |████████████████████▍           | 614kB 2.7MB/s eta 0:00:01\r\u001b[K     |████████████████████▊           | 624kB 2.7MB/s eta 0:00:01\r\u001b[K     |█████████████████████           | 634kB 2.7MB/s eta 0:00:01\r\u001b[K     |█████████████████████▍          | 645kB 2.7MB/s eta 0:00:01\r\u001b[K     |█████████████████████▉          | 655kB 2.7MB/s eta 0:00:01\r\u001b[K     |██████████████████████▏         | 665kB 2.7MB/s eta 0:00:01\r\u001b[K     |██████████████████████▌         | 675kB 2.7MB/s eta 0:00:01\r\u001b[K     |██████████████████████▉         | 686kB 2.7MB/s eta 0:00:01\r\u001b[K     |███████████████████████▏        | 696kB 2.7MB/s eta 0:00:01\r\u001b[K     |███████████████████████▌        | 706kB 2.7MB/s eta 0:00:01\r\u001b[K     |███████████████████████▉        | 716kB 2.7MB/s eta 0:00:01\r\u001b[K     |████████████████████████▏       | 727kB 2.7MB/s eta 0:00:01\r\u001b[K     |████████████████████████▌       | 737kB 2.7MB/s eta 0:00:01\r\u001b[K     |████████████████████████▉       | 747kB 2.7MB/s eta 0:00:01\r\u001b[K     |█████████████████████████▏      | 757kB 2.7MB/s eta 0:00:01\r\u001b[K     |█████████████████████████▌      | 768kB 2.7MB/s eta 0:00:01\r\u001b[K     |█████████████████████████▉      | 778kB 2.7MB/s eta 0:00:01\r\u001b[K     |██████████████████████████▏     | 788kB 2.7MB/s eta 0:00:01\r\u001b[K     |██████████████████████████▌     | 798kB 2.7MB/s eta 0:00:01\r\u001b[K     |██████████████████████████▉     | 808kB 2.7MB/s eta 0:00:01\r\u001b[K     |███████████████████████████▎    | 819kB 2.7MB/s eta 0:00:01\r\u001b[K     |███████████████████████████▋    | 829kB 2.7MB/s eta 0:00:01\r\u001b[K     |████████████████████████████    | 839kB 2.7MB/s eta 0:00:01\r\u001b[K     |████████████████████████████▎   | 849kB 2.7MB/s eta 0:00:01\r\u001b[K     |████████████████████████████▋   | 860kB 2.7MB/s eta 0:00:01\r\u001b[K     |█████████████████████████████   | 870kB 2.7MB/s eta 0:00:01\r\u001b[K     |█████████████████████████████▎  | 880kB 2.7MB/s eta 0:00:01\r\u001b[K     |█████████████████████████████▋  | 890kB 2.7MB/s eta 0:00:01\r\u001b[K     |██████████████████████████████  | 901kB 2.7MB/s eta 0:00:01\r\u001b[K     |██████████████████████████████▎ | 911kB 2.7MB/s eta 0:00:01\r\u001b[K     |██████████████████████████████▋ | 921kB 2.7MB/s eta 0:00:01\r\u001b[K     |███████████████████████████████ | 931kB 2.7MB/s eta 0:00:01\r\u001b[K     |███████████████████████████████▎| 942kB 2.7MB/s eta 0:00:01\r\u001b[K     |███████████████████████████████▋| 952kB 2.7MB/s eta 0:00:01\r\u001b[K     |████████████████████████████████| 962kB 2.7MB/s eta 0:00:01\r\u001b[K     |████████████████████████████████| 972kB 2.7MB/s \n",
            "\u001b[?25hRequirement already satisfied: pandas>=0.23.0 in /usr/local/lib/python3.6/dist-packages (from geopandas) (1.0.5)\n",
            "Requirement already satisfied: pyproj>=2.2.0 in /usr/local/lib/python3.6/dist-packages (from geopandas) (2.6.1.post1)\n",
            "Requirement already satisfied: shapely in /usr/local/lib/python3.6/dist-packages (from geopandas) (1.7.0)\n",
            "Requirement already satisfied: fiona in /usr/local/lib/python3.6/dist-packages (from geopandas) (1.8.13.post1)\n",
            "Requirement already satisfied: numpy>=1.13.3 in /usr/local/lib/python3.6/dist-packages (from pandas>=0.23.0->geopandas) (1.18.5)\n",
            "Requirement already satisfied: python-dateutil>=2.6.1 in /usr/local/lib/python3.6/dist-packages (from pandas>=0.23.0->geopandas) (2.8.1)\n",
            "Requirement already satisfied: pytz>=2017.2 in /usr/local/lib/python3.6/dist-packages (from pandas>=0.23.0->geopandas) (2018.9)\n",
            "Requirement already satisfied: click<8,>=4.0 in /usr/local/lib/python3.6/dist-packages (from fiona->geopandas) (7.1.2)\n",
            "Requirement already satisfied: click-plugins>=1.0 in /usr/local/lib/python3.6/dist-packages (from fiona->geopandas) (1.1.1)\n",
            "Requirement already satisfied: six>=1.7 in /usr/local/lib/python3.6/dist-packages (from fiona->geopandas) (1.15.0)\n",
            "Requirement already satisfied: munch in /usr/local/lib/python3.6/dist-packages (from fiona->geopandas) (2.5.0)\n",
            "Requirement already satisfied: attrs>=17 in /usr/local/lib/python3.6/dist-packages (from fiona->geopandas) (19.3.0)\n",
            "Requirement already satisfied: cligj>=0.5 in /usr/local/lib/python3.6/dist-packages (from fiona->geopandas) (0.5.0)\n",
            "Installing collected packages: geopandas\n",
            "Successfully installed geopandas-0.8.1\n"
          ],
          "name": "stdout"
        }
      ]
    },
    {
      "cell_type": "markdown",
      "metadata": {
        "id": "YdumK9bUN8pG",
        "colab_type": "text"
      },
      "source": [
        "##Import geospatial libraries."
      ]
    },
    {
      "cell_type": "code",
      "metadata": {
        "id": "daO6cVnetA9K",
        "colab_type": "code",
        "colab": {}
      },
      "source": [
        "import gdal\n",
        "import ogr\n",
        "import geos\n",
        "import shapely\n",
        "import fiona\n",
        "import pyshp\n",
        "import pyproj\n",
        "import rasterio\n",
        "\n"
      ],
      "execution_count": 1,
      "outputs": []
    }
  ]
}