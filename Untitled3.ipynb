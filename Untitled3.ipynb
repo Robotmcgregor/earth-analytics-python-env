{
  "nbformat": 4,
  "nbformat_minor": 0,
  "metadata": {
    "colab": {
      "name": "Untitled3.ipynb",
      "provenance": [],
      "mount_file_id": "17thTfUq5OchqtveFEcON4GfFb2ZP-RrS",
      "authorship_tag": "ABX9TyOHMoC3Pv4bKoXo0PWyJeES",
      "include_colab_link": true
    },
    "kernelspec": {
      "name": "python3",
      "display_name": "Python 3"
    }
  },
  "cells": [
    {
      "cell_type": "markdown",
      "metadata": {
        "id": "view-in-github",
        "colab_type": "text"
      },
      "source": [
        "<a href=\"https://colab.research.google.com/github/Robotmcgregor/earth-analytics-python-env/blob/master/Untitled3.ipynb\" target=\"_parent\"><img src=\"https://colab.research.google.com/assets/colab-badge.svg\" alt=\"Open In Colab\"/></a>"
      ]
    },
    {
      "cell_type": "markdown",
      "metadata": {
        "id": "2CJ3VEm10ail",
        "colab_type": "text"
      },
      "source": [
        "#Open and Crop Landsat Remote Sensing Data in Open Source Python"
      ]
    },
    {
      "cell_type": "code",
      "metadata": {
        "id": "kaFlPCd9yYaH",
        "colab_type": "code",
        "colab": {
          "base_uri": "https://localhost:8080/",
          "height": 322
        },
        "outputId": "047f4472-fa08-4a75-f830-ee7b943ccbf6"
      },
      "source": [
        "pip install rasterio"
      ],
      "execution_count": 1,
      "outputs": [
        {
          "output_type": "stream",
          "text": [
            "Collecting rasterio\n",
            "\u001b[?25l  Downloading https://files.pythonhosted.org/packages/02/7e/eed7dfd109fc89ed3cf8b5ed3f26f841b03b92f6ca1c31c4745f938a081b/rasterio-1.1.5-cp36-cp36m-manylinux1_x86_64.whl (18.2MB)\n",
            "\u001b[K     |████████████████████████████████| 18.2MB 1.3MB/s \n",
            "\u001b[?25hCollecting affine\n",
            "  Downloading https://files.pythonhosted.org/packages/ac/a6/1a39a1ede71210e3ddaf623982b06ecfc5c5c03741ae659073159184cd3e/affine-2.3.0-py2.py3-none-any.whl\n",
            "Collecting cligj>=0.5\n",
            "  Downloading https://files.pythonhosted.org/packages/e4/be/30a58b4b0733850280d01f8bd132591b4668ed5c7046761098d665ac2174/cligj-0.5.0-py3-none-any.whl\n",
            "Collecting click-plugins\n",
            "  Downloading https://files.pythonhosted.org/packages/e9/da/824b92d9942f4e472702488857914bdd50f73021efea15b4cad9aca8ecef/click_plugins-1.1.1-py2.py3-none-any.whl\n",
            "Collecting snuggs>=1.4.1\n",
            "  Downloading https://files.pythonhosted.org/packages/cc/0e/d27d6e806d6c0d1a2cfdc5d1f088e42339a0a54a09c3343f7f81ec8947ea/snuggs-1.4.7-py3-none-any.whl\n",
            "Requirement already satisfied: click<8,>=4.0 in /usr/local/lib/python3.6/dist-packages (from rasterio) (7.1.2)\n",
            "Requirement already satisfied: numpy in /usr/local/lib/python3.6/dist-packages (from rasterio) (1.18.5)\n",
            "Requirement already satisfied: attrs in /usr/local/lib/python3.6/dist-packages (from rasterio) (19.3.0)\n",
            "Requirement already satisfied: pyparsing>=2.1.6 in /usr/local/lib/python3.6/dist-packages (from snuggs>=1.4.1->rasterio) (2.4.7)\n",
            "Installing collected packages: affine, cligj, click-plugins, snuggs, rasterio\n",
            "Successfully installed affine-2.3.0 click-plugins-1.1.1 cligj-0.5.0 rasterio-1.1.5 snuggs-1.4.7\n"
          ],
          "name": "stdout"
        }
      ]
    },
    {
      "cell_type": "code",
      "metadata": {
        "id": "DXipufmPyaeI",
        "colab_type": "code",
        "colab": {
          "base_uri": "https://localhost:8080/",
          "height": 927
        },
        "outputId": "5934c923-eb12-485c-cd38-0bd578df9092"
      },
      "source": [
        "pip install earthpy"
      ],
      "execution_count": 2,
      "outputs": [
        {
          "output_type": "stream",
          "text": [
            "Collecting earthpy\n",
            "\u001b[?25l  Downloading https://files.pythonhosted.org/packages/2d/ee/30cd183c5b58c967ec52bb3bd8decc0a1798f15c94898b84e6ee6b0baa39/earthpy-0.9.2.tar.gz (1.4MB)\n",
            "\r\u001b[K     |▎                               | 10kB 15.9MB/s eta 0:00:01\r\u001b[K     |▌                               | 20kB 1.7MB/s eta 0:00:01\r\u001b[K     |▊                               | 30kB 2.2MB/s eta 0:00:01\r\u001b[K     |█                               | 40kB 2.5MB/s eta 0:00:01\r\u001b[K     |█▏                              | 51kB 2.0MB/s eta 0:00:01\r\u001b[K     |█▍                              | 61kB 2.3MB/s eta 0:00:01\r\u001b[K     |█▊                              | 71kB 2.5MB/s eta 0:00:01\r\u001b[K     |██                              | 81kB 2.7MB/s eta 0:00:01\r\u001b[K     |██▏                             | 92kB 2.9MB/s eta 0:00:01\r\u001b[K     |██▍                             | 102kB 2.7MB/s eta 0:00:01\r\u001b[K     |██▋                             | 112kB 2.7MB/s eta 0:00:01\r\u001b[K     |██▉                             | 122kB 2.7MB/s eta 0:00:01\r\u001b[K     |███▏                            | 133kB 2.7MB/s eta 0:00:01\r\u001b[K     |███▍                            | 143kB 2.7MB/s eta 0:00:01\r\u001b[K     |███▋                            | 153kB 2.7MB/s eta 0:00:01\r\u001b[K     |███▉                            | 163kB 2.7MB/s eta 0:00:01\r\u001b[K     |████                            | 174kB 2.7MB/s eta 0:00:01\r\u001b[K     |████▎                           | 184kB 2.7MB/s eta 0:00:01\r\u001b[K     |████▋                           | 194kB 2.7MB/s eta 0:00:01\r\u001b[K     |████▉                           | 204kB 2.7MB/s eta 0:00:01\r\u001b[K     |█████                           | 215kB 2.7MB/s eta 0:00:01\r\u001b[K     |█████▎                          | 225kB 2.7MB/s eta 0:00:01\r\u001b[K     |█████▌                          | 235kB 2.7MB/s eta 0:00:01\r\u001b[K     |█████▊                          | 245kB 2.7MB/s eta 0:00:01\r\u001b[K     |██████                          | 256kB 2.7MB/s eta 0:00:01\r\u001b[K     |██████▎                         | 266kB 2.7MB/s eta 0:00:01\r\u001b[K     |██████▌                         | 276kB 2.7MB/s eta 0:00:01\r\u001b[K     |██████▊                         | 286kB 2.7MB/s eta 0:00:01\r\u001b[K     |███████                         | 296kB 2.7MB/s eta 0:00:01\r\u001b[K     |███████▏                        | 307kB 2.7MB/s eta 0:00:01\r\u001b[K     |███████▌                        | 317kB 2.7MB/s eta 0:00:01\r\u001b[K     |███████▊                        | 327kB 2.7MB/s eta 0:00:01\r\u001b[K     |████████                        | 337kB 2.7MB/s eta 0:00:01\r\u001b[K     |████████▏                       | 348kB 2.7MB/s eta 0:00:01\r\u001b[K     |████████▍                       | 358kB 2.7MB/s eta 0:00:01\r\u001b[K     |████████▋                       | 368kB 2.7MB/s eta 0:00:01\r\u001b[K     |█████████                       | 378kB 2.7MB/s eta 0:00:01\r\u001b[K     |█████████▏                      | 389kB 2.7MB/s eta 0:00:01\r\u001b[K     |█████████▍                      | 399kB 2.7MB/s eta 0:00:01\r\u001b[K     |█████████▋                      | 409kB 2.7MB/s eta 0:00:01\r\u001b[K     |█████████▉                      | 419kB 2.7MB/s eta 0:00:01\r\u001b[K     |██████████                      | 430kB 2.7MB/s eta 0:00:01\r\u001b[K     |██████████▎                     | 440kB 2.7MB/s eta 0:00:01\r\u001b[K     |██████████▋                     | 450kB 2.7MB/s eta 0:00:01\r\u001b[K     |██████████▉                     | 460kB 2.7MB/s eta 0:00:01\r\u001b[K     |███████████                     | 471kB 2.7MB/s eta 0:00:01\r\u001b[K     |███████████▎                    | 481kB 2.7MB/s eta 0:00:01\r\u001b[K     |███████████▌                    | 491kB 2.7MB/s eta 0:00:01\r\u001b[K     |███████████▊                    | 501kB 2.7MB/s eta 0:00:01\r\u001b[K     |████████████                    | 512kB 2.7MB/s eta 0:00:01\r\u001b[K     |████████████▎                   | 522kB 2.7MB/s eta 0:00:01\r\u001b[K     |████████████▌                   | 532kB 2.7MB/s eta 0:00:01\r\u001b[K     |████████████▊                   | 542kB 2.7MB/s eta 0:00:01\r\u001b[K     |█████████████                   | 552kB 2.7MB/s eta 0:00:01\r\u001b[K     |█████████████▏                  | 563kB 2.7MB/s eta 0:00:01\r\u001b[K     |█████████████▌                  | 573kB 2.7MB/s eta 0:00:01\r\u001b[K     |█████████████▊                  | 583kB 2.7MB/s eta 0:00:01\r\u001b[K     |██████████████                  | 593kB 2.7MB/s eta 0:00:01\r\u001b[K     |██████████████▏                 | 604kB 2.7MB/s eta 0:00:01\r\u001b[K     |██████████████▍                 | 614kB 2.7MB/s eta 0:00:01\r\u001b[K     |██████████████▋                 | 624kB 2.7MB/s eta 0:00:01\r\u001b[K     |███████████████                 | 634kB 2.7MB/s eta 0:00:01\r\u001b[K     |███████████████▏                | 645kB 2.7MB/s eta 0:00:01\r\u001b[K     |███████████████▍                | 655kB 2.7MB/s eta 0:00:01\r\u001b[K     |███████████████▋                | 665kB 2.7MB/s eta 0:00:01\r\u001b[K     |███████████████▉                | 675kB 2.7MB/s eta 0:00:01\r\u001b[K     |████████████████                | 686kB 2.7MB/s eta 0:00:01\r\u001b[K     |████████████████▍               | 696kB 2.7MB/s eta 0:00:01\r\u001b[K     |████████████████▋               | 706kB 2.7MB/s eta 0:00:01\r\u001b[K     |████████████████▉               | 716kB 2.7MB/s eta 0:00:01\r\u001b[K     |█████████████████               | 727kB 2.7MB/s eta 0:00:01\r\u001b[K     |█████████████████▎              | 737kB 2.7MB/s eta 0:00:01\r\u001b[K     |█████████████████▌              | 747kB 2.7MB/s eta 0:00:01\r\u001b[K     |█████████████████▉              | 757kB 2.7MB/s eta 0:00:01\r\u001b[K     |██████████████████              | 768kB 2.7MB/s eta 0:00:01\r\u001b[K     |██████████████████▎             | 778kB 2.7MB/s eta 0:00:01\r\u001b[K     |██████████████████▌             | 788kB 2.7MB/s eta 0:00:01\r\u001b[K     |██████████████████▊             | 798kB 2.7MB/s eta 0:00:01\r\u001b[K     |███████████████████             | 808kB 2.7MB/s eta 0:00:01\r\u001b[K     |███████████████████▎            | 819kB 2.7MB/s eta 0:00:01\r\u001b[K     |███████████████████▌            | 829kB 2.7MB/s eta 0:00:01\r\u001b[K     |███████████████████▊            | 839kB 2.7MB/s eta 0:00:01\r\u001b[K     |████████████████████            | 849kB 2.7MB/s eta 0:00:01\r\u001b[K     |████████████████████▏           | 860kB 2.7MB/s eta 0:00:01\r\u001b[K     |████████████████████▍           | 870kB 2.7MB/s eta 0:00:01\r\u001b[K     |████████████████████▋           | 880kB 2.7MB/s eta 0:00:01\r\u001b[K     |█████████████████████           | 890kB 2.7MB/s eta 0:00:01\r\u001b[K     |█████████████████████▏          | 901kB 2.7MB/s eta 0:00:01\r\u001b[K     |█████████████████████▍          | 911kB 2.7MB/s eta 0:00:01\r\u001b[K     |█████████████████████▋          | 921kB 2.7MB/s eta 0:00:01\r\u001b[K     |█████████████████████▉          | 931kB 2.7MB/s eta 0:00:01\r\u001b[K     |██████████████████████          | 942kB 2.7MB/s eta 0:00:01\r\u001b[K     |██████████████████████▍         | 952kB 2.7MB/s eta 0:00:01\r\u001b[K     |██████████████████████▋         | 962kB 2.7MB/s eta 0:00:01\r\u001b[K     |██████████████████████▉         | 972kB 2.7MB/s eta 0:00:01\r\u001b[K     |███████████████████████         | 983kB 2.7MB/s eta 0:00:01\r\u001b[K     |███████████████████████▎        | 993kB 2.7MB/s eta 0:00:01\r\u001b[K     |███████████████████████▌        | 1.0MB 2.7MB/s eta 0:00:01\r\u001b[K     |███████████████████████▉        | 1.0MB 2.7MB/s eta 0:00:01\r\u001b[K     |████████████████████████        | 1.0MB 2.7MB/s eta 0:00:01\r\u001b[K     |████████████████████████▎       | 1.0MB 2.7MB/s eta 0:00:01\r\u001b[K     |████████████████████████▌       | 1.0MB 2.7MB/s eta 0:00:01\r\u001b[K     |████████████████████████▊       | 1.1MB 2.7MB/s eta 0:00:01\r\u001b[K     |█████████████████████████       | 1.1MB 2.7MB/s eta 0:00:01\r\u001b[K     |█████████████████████████▎      | 1.1MB 2.7MB/s eta 0:00:01\r\u001b[K     |█████████████████████████▌      | 1.1MB 2.7MB/s eta 0:00:01\r\u001b[K     |█████████████████████████▊      | 1.1MB 2.7MB/s eta 0:00:01\r\u001b[K     |██████████████████████████      | 1.1MB 2.7MB/s eta 0:00:01\r\u001b[K     |██████████████████████████▏     | 1.1MB 2.7MB/s eta 0:00:01\r\u001b[K     |██████████████████████████▍     | 1.1MB 2.7MB/s eta 0:00:01\r\u001b[K     |██████████████████████████▊     | 1.1MB 2.7MB/s eta 0:00:01\r\u001b[K     |███████████████████████████     | 1.1MB 2.7MB/s eta 0:00:01\r\u001b[K     |███████████████████████████▏    | 1.2MB 2.7MB/s eta 0:00:01\r\u001b[K     |███████████████████████████▍    | 1.2MB 2.7MB/s eta 0:00:01\r\u001b[K     |███████████████████████████▋    | 1.2MB 2.7MB/s eta 0:00:01\r\u001b[K     |███████████████████████████▉    | 1.2MB 2.7MB/s eta 0:00:01\r\u001b[K     |████████████████████████████▏   | 1.2MB 2.7MB/s eta 0:00:01\r\u001b[K     |████████████████████████████▍   | 1.2MB 2.7MB/s eta 0:00:01\r\u001b[K     |████████████████████████████▋   | 1.2MB 2.7MB/s eta 0:00:01\r\u001b[K     |████████████████████████████▉   | 1.2MB 2.7MB/s eta 0:00:01\r\u001b[K     |█████████████████████████████   | 1.2MB 2.7MB/s eta 0:00:01\r\u001b[K     |█████████████████████████████▎  | 1.2MB 2.7MB/s eta 0:00:01\r\u001b[K     |█████████████████████████████▋  | 1.3MB 2.7MB/s eta 0:00:01\r\u001b[K     |█████████████████████████████▉  | 1.3MB 2.7MB/s eta 0:00:01\r\u001b[K     |██████████████████████████████  | 1.3MB 2.7MB/s eta 0:00:01\r\u001b[K     |██████████████████████████████▎ | 1.3MB 2.7MB/s eta 0:00:01\r\u001b[K     |██████████████████████████████▌ | 1.3MB 2.7MB/s eta 0:00:01\r\u001b[K     |██████████████████████████████▊ | 1.3MB 2.7MB/s eta 0:00:01\r\u001b[K     |███████████████████████████████ | 1.3MB 2.7MB/s eta 0:00:01\r\u001b[K     |███████████████████████████████▎| 1.3MB 2.7MB/s eta 0:00:01\r\u001b[K     |███████████████████████████████▌| 1.3MB 2.7MB/s eta 0:00:01\r\u001b[K     |███████████████████████████████▊| 1.4MB 2.7MB/s eta 0:00:01\r\u001b[K     |████████████████████████████████| 1.4MB 2.7MB/s eta 0:00:01\r\u001b[K     |████████████████████████████████| 1.4MB 2.7MB/s \n",
            "\u001b[?25h  Installing build dependencies ... \u001b[?25l\u001b[?25hdone\n",
            "  Getting requirements to build wheel ... \u001b[?25l\u001b[?25hdone\n",
            "    Preparing wheel metadata ... \u001b[?25l\u001b[?25hdone\n",
            "Requirement already satisfied: scikit-image in /usr/local/lib/python3.6/dist-packages (from earthpy) (0.16.2)\n",
            "Collecting geopandas\n",
            "\u001b[?25l  Downloading https://files.pythonhosted.org/packages/f7/a4/e66aafbefcbb717813bf3a355c8c4fc3ed04ea1dd7feb2920f2f4f868921/geopandas-0.8.1-py2.py3-none-any.whl (962kB)\n",
            "\u001b[K     |████████████████████████████████| 972kB 15.4MB/s \n",
            "\u001b[?25hRequirement already satisfied: numpy>=1.14.0 in /usr/local/lib/python3.6/dist-packages (from earthpy) (1.18.5)\n",
            "Requirement already satisfied: requests in /usr/local/lib/python3.6/dist-packages (from earthpy) (2.23.0)\n",
            "Requirement already satisfied: rasterio in /usr/local/lib/python3.6/dist-packages (from earthpy) (1.1.5)\n",
            "Requirement already satisfied: matplotlib>=2.0.0 in /usr/local/lib/python3.6/dist-packages (from earthpy) (3.2.2)\n",
            "Requirement already satisfied: networkx>=2.0 in /usr/local/lib/python3.6/dist-packages (from scikit-image->earthpy) (2.4)\n",
            "Requirement already satisfied: scipy>=0.19.0 in /usr/local/lib/python3.6/dist-packages (from scikit-image->earthpy) (1.4.1)\n",
            "Requirement already satisfied: imageio>=2.3.0 in /usr/local/lib/python3.6/dist-packages (from scikit-image->earthpy) (2.4.1)\n",
            "Requirement already satisfied: pillow>=4.3.0 in /usr/local/lib/python3.6/dist-packages (from scikit-image->earthpy) (7.0.0)\n",
            "Requirement already satisfied: PyWavelets>=0.4.0 in /usr/local/lib/python3.6/dist-packages (from scikit-image->earthpy) (1.1.1)\n",
            "Collecting pyproj>=2.2.0\n",
            "\u001b[?25l  Downloading https://files.pythonhosted.org/packages/e5/c3/071e080230ac4b6c64f1a2e2f9161c9737a2bc7b683d2c90b024825000c0/pyproj-2.6.1.post1-cp36-cp36m-manylinux2010_x86_64.whl (10.9MB)\n",
            "\u001b[K     |████████████████████████████████| 10.9MB 20.4MB/s \n",
            "\u001b[?25hRequirement already satisfied: pandas>=0.23.0 in /usr/local/lib/python3.6/dist-packages (from geopandas->earthpy) (1.0.5)\n",
            "Collecting fiona\n",
            "\u001b[?25l  Downloading https://files.pythonhosted.org/packages/ec/20/4e63bc5c6e62df889297b382c3ccd4a7a488b00946aaaf81a118158c6f09/Fiona-1.8.13.post1-cp36-cp36m-manylinux1_x86_64.whl (14.7MB)\n",
            "\u001b[K     |████████████████████████████████| 14.7MB 240kB/s \n",
            "\u001b[?25hRequirement already satisfied: shapely in /usr/local/lib/python3.6/dist-packages (from geopandas->earthpy) (1.7.0)\n",
            "Requirement already satisfied: chardet<4,>=3.0.2 in /usr/local/lib/python3.6/dist-packages (from requests->earthpy) (3.0.4)\n",
            "Requirement already satisfied: idna<3,>=2.5 in /usr/local/lib/python3.6/dist-packages (from requests->earthpy) (2.10)\n",
            "Requirement already satisfied: urllib3!=1.25.0,!=1.25.1,<1.26,>=1.21.1 in /usr/local/lib/python3.6/dist-packages (from requests->earthpy) (1.24.3)\n",
            "Requirement already satisfied: certifi>=2017.4.17 in /usr/local/lib/python3.6/dist-packages (from requests->earthpy) (2020.6.20)\n",
            "Requirement already satisfied: affine in /usr/local/lib/python3.6/dist-packages (from rasterio->earthpy) (2.3.0)\n",
            "Requirement already satisfied: click-plugins in /usr/local/lib/python3.6/dist-packages (from rasterio->earthpy) (1.1.1)\n",
            "Requirement already satisfied: cligj>=0.5 in /usr/local/lib/python3.6/dist-packages (from rasterio->earthpy) (0.5.0)\n",
            "Requirement already satisfied: snuggs>=1.4.1 in /usr/local/lib/python3.6/dist-packages (from rasterio->earthpy) (1.4.7)\n",
            "Requirement already satisfied: click<8,>=4.0 in /usr/local/lib/python3.6/dist-packages (from rasterio->earthpy) (7.1.2)\n",
            "Requirement already satisfied: attrs in /usr/local/lib/python3.6/dist-packages (from rasterio->earthpy) (19.3.0)\n",
            "Requirement already satisfied: python-dateutil>=2.1 in /usr/local/lib/python3.6/dist-packages (from matplotlib>=2.0.0->earthpy) (2.8.1)\n",
            "Requirement already satisfied: pyparsing!=2.0.4,!=2.1.2,!=2.1.6,>=2.0.1 in /usr/local/lib/python3.6/dist-packages (from matplotlib>=2.0.0->earthpy) (2.4.7)\n",
            "Requirement already satisfied: cycler>=0.10 in /usr/local/lib/python3.6/dist-packages (from matplotlib>=2.0.0->earthpy) (0.10.0)\n",
            "Requirement already satisfied: kiwisolver>=1.0.1 in /usr/local/lib/python3.6/dist-packages (from matplotlib>=2.0.0->earthpy) (1.2.0)\n",
            "Requirement already satisfied: decorator>=4.3.0 in /usr/local/lib/python3.6/dist-packages (from networkx>=2.0->scikit-image->earthpy) (4.4.2)\n",
            "Requirement already satisfied: pytz>=2017.2 in /usr/local/lib/python3.6/dist-packages (from pandas>=0.23.0->geopandas->earthpy) (2018.9)\n",
            "Requirement already satisfied: six>=1.7 in /usr/local/lib/python3.6/dist-packages (from fiona->geopandas->earthpy) (1.15.0)\n",
            "Collecting munch\n",
            "  Downloading https://files.pythonhosted.org/packages/cc/ab/85d8da5c9a45e072301beb37ad7f833cd344e04c817d97e0cc75681d248f/munch-2.5.0-py2.py3-none-any.whl\n",
            "Building wheels for collected packages: earthpy\n",
            "  Building wheel for earthpy (PEP 517) ... \u001b[?25l\u001b[?25hdone\n",
            "  Created wheel for earthpy: filename=earthpy-0.9.2-cp36-none-any.whl size=1365087 sha256=da6ddc0ccfa9b9d7c8d14c3f217c396d100798cdd472d616c10472854d4452fd\n",
            "  Stored in directory: /root/.cache/pip/wheels/27/f9/a5/026bb95ef7b12f9343b842da6897b4001c5b902550095cbbbe\n",
            "Successfully built earthpy\n",
            "Installing collected packages: pyproj, munch, fiona, geopandas, earthpy\n",
            "Successfully installed earthpy-0.9.2 fiona-1.8.13.post1 geopandas-0.8.1 munch-2.5.0 pyproj-2.6.1.post1\n"
          ],
          "name": "stdout"
        }
      ]
    },
    {
      "cell_type": "code",
      "metadata": {
        "id": "sus6ebrDyb3U",
        "colab_type": "code",
        "colab": {}
      },
      "source": [
        "import os\n",
        "from glob import glob  # File manipulation\n",
        "import matplotlib.pyplot as plt\n",
        "import geopandas as gpd\n",
        "import rasterio as rio\n",
        "import earthpy as et\n",
        "import earthpy.spatial as es\n",
        "import earthpy.plot as ep\n"
      ],
      "execution_count": 3,
      "outputs": []
    },
    {
      "cell_type": "code",
      "metadata": {
        "id": "9EwpKP5UyhMG",
        "colab_type": "code",
        "colab": {
          "base_uri": "https://localhost:8080/",
          "height": 50
        },
        "outputId": "b0674581-d16d-4a3a-c256-99c7b1056d95"
      },
      "source": [
        "# Download data and set working directory\n",
        "data = et.data.get_data('cold-springs-fire')\n",
        "os.chdir(os.path.join(et.io.HOME, 'earth-analytics', 'data'))"
      ],
      "execution_count": 4,
      "outputs": [
        {
          "output_type": "stream",
          "text": [
            "Downloading from https://ndownloader.figshare.com/files/10960109\n",
            "Extracted output to /root/earth-analytics/data/cold-springs-fire/.\n"
          ],
          "name": "stdout"
        }
      ]
    },
    {
      "cell_type": "code",
      "metadata": {
        "id": "hQnG6cBRzAAV",
        "colab_type": "code",
        "colab": {
          "base_uri": "https://localhost:8080/",
          "height": 35
        },
        "outputId": "0a87796d-b169-4a04-fad5-f6c3e286cb59"
      },
      "source": [
        "data"
      ],
      "execution_count": 5,
      "outputs": [
        {
          "output_type": "execute_result",
          "data": {
            "application/vnd.google.colaboratory.intrinsic+json": {
              "type": "string"
            },
            "text/plain": [
              "'/root/earth-analytics/data/cold-springs-fire/.'"
            ]
          },
          "metadata": {
            "tags": []
          },
          "execution_count": 5
        }
      ]
    },
    {
      "cell_type": "code",
      "metadata": {
        "id": "Ia-wLmXq0HBz",
        "colab_type": "code",
        "colab": {}
      },
      "source": [
        ""
      ],
      "execution_count": null,
      "outputs": []
    },
    {
      "cell_type": "code",
      "metadata": {
        "id": "3U6U8khJ0Zar",
        "colab_type": "code",
        "colab": {}
      },
      "source": [
        ""
      ],
      "execution_count": null,
      "outputs": []
    }
  ]
}