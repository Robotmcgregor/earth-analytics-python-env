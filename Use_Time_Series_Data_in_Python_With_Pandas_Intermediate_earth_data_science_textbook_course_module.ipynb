{
  "nbformat": 4,
  "nbformat_minor": 0,
  "metadata": {
    "colab": {
      "name": " Use Time Series Data in Python With Pandas - Intermediate earth data science textbook course module",
      "provenance": [],
      "mount_file_id": "1TCGToGPn-HkCjIaKidjUca-ikN5xaIiP",
      "authorship_tag": "ABX9TyN6njbSBCLyY2iiTIKEiE7A",
      "include_colab_link": true
    },
    "kernelspec": {
      "name": "python3",
      "display_name": "Python 3"
    }
  },
  "cells": [
    {
      "cell_type": "markdown",
      "metadata": {
        "id": "view-in-github",
        "colab_type": "text"
      },
      "source": [
        "<a href=\"https://colab.research.google.com/github/Robotmcgregor/earth-analytics-python-env/blob/master/Use_Time_Series_Data_in_Python_With_Pandas_Intermediate_earth_data_science_textbook_course_module.ipynb\" target=\"_parent\"><img src=\"https://colab.research.google.com/assets/colab-badge.svg\" alt=\"Open In Colab\"/></a>"
      ]
    },
    {
      "cell_type": "markdown",
      "metadata": {
        "id": "bFMx7izd2BXZ",
        "colab_type": "text"
      },
      "source": [
        "# Use Time Series Data in Python With Pandas - Intermediate earth data science textbook course module"
      ]
    },
    {
      "cell_type": "code",
      "metadata": {
        "id": "czzr6GeQ2sIV",
        "colab_type": "code",
        "colab": {
          "base_uri": "https://localhost:8080/",
          "height": 222
        },
        "outputId": "b70cf585-62ea-4297-999b-95677b73120d"
      },
      "source": [
        "pip install seaborn"
      ],
      "execution_count": 1,
      "outputs": [
        {
          "output_type": "stream",
          "text": [
            "Requirement already satisfied: seaborn in /usr/local/lib/python3.6/dist-packages (0.10.1)\n",
            "Requirement already satisfied: numpy>=1.13.3 in /usr/local/lib/python3.6/dist-packages (from seaborn) (1.18.5)\n",
            "Requirement already satisfied: pandas>=0.22.0 in /usr/local/lib/python3.6/dist-packages (from seaborn) (1.0.5)\n",
            "Requirement already satisfied: matplotlib>=2.1.2 in /usr/local/lib/python3.6/dist-packages (from seaborn) (3.2.2)\n",
            "Requirement already satisfied: scipy>=1.0.1 in /usr/local/lib/python3.6/dist-packages (from seaborn) (1.4.1)\n",
            "Requirement already satisfied: pytz>=2017.2 in /usr/local/lib/python3.6/dist-packages (from pandas>=0.22.0->seaborn) (2018.9)\n",
            "Requirement already satisfied: python-dateutil>=2.6.1 in /usr/local/lib/python3.6/dist-packages (from pandas>=0.22.0->seaborn) (2.8.1)\n",
            "Requirement already satisfied: kiwisolver>=1.0.1 in /usr/local/lib/python3.6/dist-packages (from matplotlib>=2.1.2->seaborn) (1.2.0)\n",
            "Requirement already satisfied: cycler>=0.10 in /usr/local/lib/python3.6/dist-packages (from matplotlib>=2.1.2->seaborn) (0.10.0)\n",
            "Requirement already satisfied: pyparsing!=2.0.4,!=2.1.2,!=2.1.6,>=2.0.1 in /usr/local/lib/python3.6/dist-packages (from matplotlib>=2.1.2->seaborn) (2.4.7)\n",
            "Requirement already satisfied: six>=1.5 in /usr/local/lib/python3.6/dist-packages (from python-dateutil>=2.6.1->pandas>=0.22.0->seaborn) (1.15.0)\n"
          ],
          "name": "stdout"
        }
      ]
    },
    {
      "cell_type": "code",
      "metadata": {
        "id": "fuF5RVJh2zLs",
        "colab_type": "code",
        "colab": {
          "base_uri": "https://localhost:8080/",
          "height": 1000
        },
        "outputId": "7c2bde87-68c0-4332-867f-11c037cbdad2"
      },
      "source": [
        "pip install earthpy"
      ],
      "execution_count": 2,
      "outputs": [
        {
          "output_type": "stream",
          "text": [
            "Collecting earthpy\n",
            "\u001b[?25l  Downloading https://files.pythonhosted.org/packages/2d/ee/30cd183c5b58c967ec52bb3bd8decc0a1798f15c94898b84e6ee6b0baa39/earthpy-0.9.2.tar.gz (1.4MB)\n",
            "\r\u001b[K     |▎                               | 10kB 19.1MB/s eta 0:00:01\r\u001b[K     |▌                               | 20kB 1.7MB/s eta 0:00:01\r\u001b[K     |▊                               | 30kB 2.2MB/s eta 0:00:01\r\u001b[K     |█                               | 40kB 2.5MB/s eta 0:00:01\r\u001b[K     |█▏                              | 51kB 2.0MB/s eta 0:00:01\r\u001b[K     |█▍                              | 61kB 2.3MB/s eta 0:00:01\r\u001b[K     |█▊                              | 71kB 2.5MB/s eta 0:00:01\r\u001b[K     |██                              | 81kB 2.7MB/s eta 0:00:01\r\u001b[K     |██▏                             | 92kB 2.9MB/s eta 0:00:01\r\u001b[K     |██▍                             | 102kB 2.8MB/s eta 0:00:01\r\u001b[K     |██▋                             | 112kB 2.8MB/s eta 0:00:01\r\u001b[K     |██▉                             | 122kB 2.8MB/s eta 0:00:01\r\u001b[K     |███▏                            | 133kB 2.8MB/s eta 0:00:01\r\u001b[K     |███▍                            | 143kB 2.8MB/s eta 0:00:01\r\u001b[K     |███▋                            | 153kB 2.8MB/s eta 0:00:01\r\u001b[K     |███▉                            | 163kB 2.8MB/s eta 0:00:01\r\u001b[K     |████                            | 174kB 2.8MB/s eta 0:00:01\r\u001b[K     |████▎                           | 184kB 2.8MB/s eta 0:00:01\r\u001b[K     |████▋                           | 194kB 2.8MB/s eta 0:00:01\r\u001b[K     |████▉                           | 204kB 2.8MB/s eta 0:00:01\r\u001b[K     |█████                           | 215kB 2.8MB/s eta 0:00:01\r\u001b[K     |█████▎                          | 225kB 2.8MB/s eta 0:00:01\r\u001b[K     |█████▌                          | 235kB 2.8MB/s eta 0:00:01\r\u001b[K     |█████▊                          | 245kB 2.8MB/s eta 0:00:01\r\u001b[K     |██████                          | 256kB 2.8MB/s eta 0:00:01\r\u001b[K     |██████▎                         | 266kB 2.8MB/s eta 0:00:01\r\u001b[K     |██████▌                         | 276kB 2.8MB/s eta 0:00:01\r\u001b[K     |██████▊                         | 286kB 2.8MB/s eta 0:00:01\r\u001b[K     |███████                         | 296kB 2.8MB/s eta 0:00:01\r\u001b[K     |███████▏                        | 307kB 2.8MB/s eta 0:00:01\r\u001b[K     |███████▌                        | 317kB 2.8MB/s eta 0:00:01\r\u001b[K     |███████▊                        | 327kB 2.8MB/s eta 0:00:01\r\u001b[K     |████████                        | 337kB 2.8MB/s eta 0:00:01\r\u001b[K     |████████▏                       | 348kB 2.8MB/s eta 0:00:01\r\u001b[K     |████████▍                       | 358kB 2.8MB/s eta 0:00:01\r\u001b[K     |████████▋                       | 368kB 2.8MB/s eta 0:00:01\r\u001b[K     |█████████                       | 378kB 2.8MB/s eta 0:00:01\r\u001b[K     |█████████▏                      | 389kB 2.8MB/s eta 0:00:01\r\u001b[K     |█████████▍                      | 399kB 2.8MB/s eta 0:00:01\r\u001b[K     |█████████▋                      | 409kB 2.8MB/s eta 0:00:01\r\u001b[K     |█████████▉                      | 419kB 2.8MB/s eta 0:00:01\r\u001b[K     |██████████                      | 430kB 2.8MB/s eta 0:00:01\r\u001b[K     |██████████▎                     | 440kB 2.8MB/s eta 0:00:01\r\u001b[K     |██████████▋                     | 450kB 2.8MB/s eta 0:00:01\r\u001b[K     |██████████▉                     | 460kB 2.8MB/s eta 0:00:01\r\u001b[K     |███████████                     | 471kB 2.8MB/s eta 0:00:01\r\u001b[K     |███████████▎                    | 481kB 2.8MB/s eta 0:00:01\r\u001b[K     |███████████▌                    | 491kB 2.8MB/s eta 0:00:01\r\u001b[K     |███████████▊                    | 501kB 2.8MB/s eta 0:00:01\r\u001b[K     |████████████                    | 512kB 2.8MB/s eta 0:00:01\r\u001b[K     |████████████▎                   | 522kB 2.8MB/s eta 0:00:01\r\u001b[K     |████████████▌                   | 532kB 2.8MB/s eta 0:00:01\r\u001b[K     |████████████▊                   | 542kB 2.8MB/s eta 0:00:01\r\u001b[K     |█████████████                   | 552kB 2.8MB/s eta 0:00:01\r\u001b[K     |█████████████▏                  | 563kB 2.8MB/s eta 0:00:01\r\u001b[K     |█████████████▌                  | 573kB 2.8MB/s eta 0:00:01\r\u001b[K     |█████████████▊                  | 583kB 2.8MB/s eta 0:00:01\r\u001b[K     |██████████████                  | 593kB 2.8MB/s eta 0:00:01\r\u001b[K     |██████████████▏                 | 604kB 2.8MB/s eta 0:00:01\r\u001b[K     |██████████████▍                 | 614kB 2.8MB/s eta 0:00:01\r\u001b[K     |██████████████▋                 | 624kB 2.8MB/s eta 0:00:01\r\u001b[K     |███████████████                 | 634kB 2.8MB/s eta 0:00:01\r\u001b[K     |███████████████▏                | 645kB 2.8MB/s eta 0:00:01\r\u001b[K     |███████████████▍                | 655kB 2.8MB/s eta 0:00:01\r\u001b[K     |███████████████▋                | 665kB 2.8MB/s eta 0:00:01\r\u001b[K     |███████████████▉                | 675kB 2.8MB/s eta 0:00:01\r\u001b[K     |████████████████                | 686kB 2.8MB/s eta 0:00:01\r\u001b[K     |████████████████▍               | 696kB 2.8MB/s eta 0:00:01\r\u001b[K     |████████████████▋               | 706kB 2.8MB/s eta 0:00:01\r\u001b[K     |████████████████▉               | 716kB 2.8MB/s eta 0:00:01\r\u001b[K     |█████████████████               | 727kB 2.8MB/s eta 0:00:01\r\u001b[K     |█████████████████▎              | 737kB 2.8MB/s eta 0:00:01\r\u001b[K     |█████████████████▌              | 747kB 2.8MB/s eta 0:00:01\r\u001b[K     |█████████████████▉              | 757kB 2.8MB/s eta 0:00:01\r\u001b[K     |██████████████████              | 768kB 2.8MB/s eta 0:00:01\r\u001b[K     |██████████████████▎             | 778kB 2.8MB/s eta 0:00:01\r\u001b[K     |██████████████████▌             | 788kB 2.8MB/s eta 0:00:01\r\u001b[K     |██████████████████▊             | 798kB 2.8MB/s eta 0:00:01\r\u001b[K     |███████████████████             | 808kB 2.8MB/s eta 0:00:01\r\u001b[K     |███████████████████▎            | 819kB 2.8MB/s eta 0:00:01\r\u001b[K     |███████████████████▌            | 829kB 2.8MB/s eta 0:00:01\r\u001b[K     |███████████████████▊            | 839kB 2.8MB/s eta 0:00:01\r\u001b[K     |████████████████████            | 849kB 2.8MB/s eta 0:00:01\r\u001b[K     |████████████████████▏           | 860kB 2.8MB/s eta 0:00:01\r\u001b[K     |████████████████████▍           | 870kB 2.8MB/s eta 0:00:01\r\u001b[K     |████████████████████▋           | 880kB 2.8MB/s eta 0:00:01\r\u001b[K     |█████████████████████           | 890kB 2.8MB/s eta 0:00:01\r\u001b[K     |█████████████████████▏          | 901kB 2.8MB/s eta 0:00:01\r\u001b[K     |█████████████████████▍          | 911kB 2.8MB/s eta 0:00:01\r\u001b[K     |█████████████████████▋          | 921kB 2.8MB/s eta 0:00:01\r\u001b[K     |█████████████████████▉          | 931kB 2.8MB/s eta 0:00:01\r\u001b[K     |██████████████████████          | 942kB 2.8MB/s eta 0:00:01\r\u001b[K     |██████████████████████▍         | 952kB 2.8MB/s eta 0:00:01\r\u001b[K     |██████████████████████▋         | 962kB 2.8MB/s eta 0:00:01\r\u001b[K     |██████████████████████▉         | 972kB 2.8MB/s eta 0:00:01\r\u001b[K     |███████████████████████         | 983kB 2.8MB/s eta 0:00:01\r\u001b[K     |███████████████████████▎        | 993kB 2.8MB/s eta 0:00:01\r\u001b[K     |███████████████████████▌        | 1.0MB 2.8MB/s eta 0:00:01\r\u001b[K     |███████████████████████▉        | 1.0MB 2.8MB/s eta 0:00:01\r\u001b[K     |████████████████████████        | 1.0MB 2.8MB/s eta 0:00:01\r\u001b[K     |████████████████████████▎       | 1.0MB 2.8MB/s eta 0:00:01\r\u001b[K     |████████████████████████▌       | 1.0MB 2.8MB/s eta 0:00:01\r\u001b[K     |████████████████████████▊       | 1.1MB 2.8MB/s eta 0:00:01\r\u001b[K     |█████████████████████████       | 1.1MB 2.8MB/s eta 0:00:01\r\u001b[K     |█████████████████████████▎      | 1.1MB 2.8MB/s eta 0:00:01\r\u001b[K     |█████████████████████████▌      | 1.1MB 2.8MB/s eta 0:00:01\r\u001b[K     |█████████████████████████▊      | 1.1MB 2.8MB/s eta 0:00:01\r\u001b[K     |██████████████████████████      | 1.1MB 2.8MB/s eta 0:00:01\r\u001b[K     |██████████████████████████▏     | 1.1MB 2.8MB/s eta 0:00:01\r\u001b[K     |██████████████████████████▍     | 1.1MB 2.8MB/s eta 0:00:01\r\u001b[K     |██████████████████████████▊     | 1.1MB 2.8MB/s eta 0:00:01\r\u001b[K     |███████████████████████████     | 1.1MB 2.8MB/s eta 0:00:01\r\u001b[K     |███████████████████████████▏    | 1.2MB 2.8MB/s eta 0:00:01\r\u001b[K     |███████████████████████████▍    | 1.2MB 2.8MB/s eta 0:00:01\r\u001b[K     |███████████████████████████▋    | 1.2MB 2.8MB/s eta 0:00:01\r\u001b[K     |███████████████████████████▉    | 1.2MB 2.8MB/s eta 0:00:01\r\u001b[K     |████████████████████████████▏   | 1.2MB 2.8MB/s eta 0:00:01\r\u001b[K     |████████████████████████████▍   | 1.2MB 2.8MB/s eta 0:00:01\r\u001b[K     |████████████████████████████▋   | 1.2MB 2.8MB/s eta 0:00:01\r\u001b[K     |████████████████████████████▉   | 1.2MB 2.8MB/s eta 0:00:01\r\u001b[K     |█████████████████████████████   | 1.2MB 2.8MB/s eta 0:00:01\r\u001b[K     |█████████████████████████████▎  | 1.2MB 2.8MB/s eta 0:00:01\r\u001b[K     |█████████████████████████████▋  | 1.3MB 2.8MB/s eta 0:00:01\r\u001b[K     |█████████████████████████████▉  | 1.3MB 2.8MB/s eta 0:00:01\r\u001b[K     |██████████████████████████████  | 1.3MB 2.8MB/s eta 0:00:01\r\u001b[K     |██████████████████████████████▎ | 1.3MB 2.8MB/s eta 0:00:01\r\u001b[K     |██████████████████████████████▌ | 1.3MB 2.8MB/s eta 0:00:01\r\u001b[K     |██████████████████████████████▊ | 1.3MB 2.8MB/s eta 0:00:01\r\u001b[K     |███████████████████████████████ | 1.3MB 2.8MB/s eta 0:00:01\r\u001b[K     |███████████████████████████████▎| 1.3MB 2.8MB/s eta 0:00:01\r\u001b[K     |███████████████████████████████▌| 1.3MB 2.8MB/s eta 0:00:01\r\u001b[K     |███████████████████████████████▊| 1.4MB 2.8MB/s eta 0:00:01\r\u001b[K     |████████████████████████████████| 1.4MB 2.8MB/s eta 0:00:01\r\u001b[K     |████████████████████████████████| 1.4MB 2.8MB/s \n",
            "\u001b[?25h  Installing build dependencies ... \u001b[?25l\u001b[?25hdone\n",
            "  Getting requirements to build wheel ... \u001b[?25l\u001b[?25hdone\n",
            "    Preparing wheel metadata ... \u001b[?25l\u001b[?25hdone\n",
            "Requirement already satisfied: requests in /usr/local/lib/python3.6/dist-packages (from earthpy) (2.23.0)\n",
            "Collecting geopandas\n",
            "\u001b[?25l  Downloading https://files.pythonhosted.org/packages/f7/a4/e66aafbefcbb717813bf3a355c8c4fc3ed04ea1dd7feb2920f2f4f868921/geopandas-0.8.1-py2.py3-none-any.whl (962kB)\n",
            "\u001b[K     |████████████████████████████████| 972kB 16.9MB/s \n",
            "\u001b[?25hRequirement already satisfied: matplotlib>=2.0.0 in /usr/local/lib/python3.6/dist-packages (from earthpy) (3.2.2)\n",
            "Requirement already satisfied: scikit-image in /usr/local/lib/python3.6/dist-packages (from earthpy) (0.16.2)\n",
            "Requirement already satisfied: numpy>=1.14.0 in /usr/local/lib/python3.6/dist-packages (from earthpy) (1.18.5)\n",
            "Collecting rasterio\n",
            "\u001b[?25l  Downloading https://files.pythonhosted.org/packages/02/7e/eed7dfd109fc89ed3cf8b5ed3f26f841b03b92f6ca1c31c4745f938a081b/rasterio-1.1.5-cp36-cp36m-manylinux1_x86_64.whl (18.2MB)\n",
            "\u001b[K     |████████████████████████████████| 18.2MB 231kB/s \n",
            "\u001b[?25hRequirement already satisfied: idna<3,>=2.5 in /usr/local/lib/python3.6/dist-packages (from requests->earthpy) (2.10)\n",
            "Requirement already satisfied: chardet<4,>=3.0.2 in /usr/local/lib/python3.6/dist-packages (from requests->earthpy) (3.0.4)\n",
            "Requirement already satisfied: certifi>=2017.4.17 in /usr/local/lib/python3.6/dist-packages (from requests->earthpy) (2020.6.20)\n",
            "Requirement already satisfied: urllib3!=1.25.0,!=1.25.1,<1.26,>=1.21.1 in /usr/local/lib/python3.6/dist-packages (from requests->earthpy) (1.24.3)\n",
            "Collecting fiona\n",
            "\u001b[?25l  Downloading https://files.pythonhosted.org/packages/ec/20/4e63bc5c6e62df889297b382c3ccd4a7a488b00946aaaf81a118158c6f09/Fiona-1.8.13.post1-cp36-cp36m-manylinux1_x86_64.whl (14.7MB)\n",
            "\u001b[K     |████████████████████████████████| 14.7MB 176kB/s \n",
            "\u001b[?25hRequirement already satisfied: pandas>=0.23.0 in /usr/local/lib/python3.6/dist-packages (from geopandas->earthpy) (1.0.5)\n",
            "Requirement already satisfied: shapely in /usr/local/lib/python3.6/dist-packages (from geopandas->earthpy) (1.7.0)\n",
            "Collecting pyproj>=2.2.0\n",
            "\u001b[?25l  Downloading https://files.pythonhosted.org/packages/e5/c3/071e080230ac4b6c64f1a2e2f9161c9737a2bc7b683d2c90b024825000c0/pyproj-2.6.1.post1-cp36-cp36m-manylinux2010_x86_64.whl (10.9MB)\n",
            "\u001b[K     |████████████████████████████████| 10.9MB 49.1MB/s \n",
            "\u001b[?25hRequirement already satisfied: python-dateutil>=2.1 in /usr/local/lib/python3.6/dist-packages (from matplotlib>=2.0.0->earthpy) (2.8.1)\n",
            "Requirement already satisfied: kiwisolver>=1.0.1 in /usr/local/lib/python3.6/dist-packages (from matplotlib>=2.0.0->earthpy) (1.2.0)\n",
            "Requirement already satisfied: cycler>=0.10 in /usr/local/lib/python3.6/dist-packages (from matplotlib>=2.0.0->earthpy) (0.10.0)\n",
            "Requirement already satisfied: pyparsing!=2.0.4,!=2.1.2,!=2.1.6,>=2.0.1 in /usr/local/lib/python3.6/dist-packages (from matplotlib>=2.0.0->earthpy) (2.4.7)\n",
            "Requirement already satisfied: pillow>=4.3.0 in /usr/local/lib/python3.6/dist-packages (from scikit-image->earthpy) (7.0.0)\n",
            "Requirement already satisfied: networkx>=2.0 in /usr/local/lib/python3.6/dist-packages (from scikit-image->earthpy) (2.4)\n",
            "Requirement already satisfied: imageio>=2.3.0 in /usr/local/lib/python3.6/dist-packages (from scikit-image->earthpy) (2.4.1)\n",
            "Requirement already satisfied: scipy>=0.19.0 in /usr/local/lib/python3.6/dist-packages (from scikit-image->earthpy) (1.4.1)\n",
            "Requirement already satisfied: PyWavelets>=0.4.0 in /usr/local/lib/python3.6/dist-packages (from scikit-image->earthpy) (1.1.1)\n",
            "Requirement already satisfied: click<8,>=4.0 in /usr/local/lib/python3.6/dist-packages (from rasterio->earthpy) (7.1.2)\n",
            "Collecting click-plugins\n",
            "  Downloading https://files.pythonhosted.org/packages/e9/da/824b92d9942f4e472702488857914bdd50f73021efea15b4cad9aca8ecef/click_plugins-1.1.1-py2.py3-none-any.whl\n",
            "Collecting snuggs>=1.4.1\n",
            "  Downloading https://files.pythonhosted.org/packages/cc/0e/d27d6e806d6c0d1a2cfdc5d1f088e42339a0a54a09c3343f7f81ec8947ea/snuggs-1.4.7-py3-none-any.whl\n",
            "Collecting cligj>=0.5\n",
            "  Downloading https://files.pythonhosted.org/packages/e4/be/30a58b4b0733850280d01f8bd132591b4668ed5c7046761098d665ac2174/cligj-0.5.0-py3-none-any.whl\n",
            "Collecting affine\n",
            "  Downloading https://files.pythonhosted.org/packages/ac/a6/1a39a1ede71210e3ddaf623982b06ecfc5c5c03741ae659073159184cd3e/affine-2.3.0-py2.py3-none-any.whl\n",
            "Requirement already satisfied: attrs in /usr/local/lib/python3.6/dist-packages (from rasterio->earthpy) (19.3.0)\n",
            "Collecting munch\n",
            "  Downloading https://files.pythonhosted.org/packages/cc/ab/85d8da5c9a45e072301beb37ad7f833cd344e04c817d97e0cc75681d248f/munch-2.5.0-py2.py3-none-any.whl\n",
            "Requirement already satisfied: six>=1.7 in /usr/local/lib/python3.6/dist-packages (from fiona->geopandas->earthpy) (1.15.0)\n",
            "Requirement already satisfied: pytz>=2017.2 in /usr/local/lib/python3.6/dist-packages (from pandas>=0.23.0->geopandas->earthpy) (2018.9)\n",
            "Requirement already satisfied: decorator>=4.3.0 in /usr/local/lib/python3.6/dist-packages (from networkx>=2.0->scikit-image->earthpy) (4.4.2)\n",
            "Building wheels for collected packages: earthpy\n",
            "  Building wheel for earthpy (PEP 517) ... \u001b[?25l\u001b[?25hdone\n",
            "  Created wheel for earthpy: filename=earthpy-0.9.2-cp36-none-any.whl size=1365087 sha256=f5f8f5941d36d09f6e3dce31c279ea7eeea2f4111cde7493d5b05e6b8b188c3a\n",
            "  Stored in directory: /root/.cache/pip/wheels/27/f9/a5/026bb95ef7b12f9343b842da6897b4001c5b902550095cbbbe\n",
            "Successfully built earthpy\n",
            "Installing collected packages: munch, cligj, click-plugins, fiona, pyproj, geopandas, snuggs, affine, rasterio, earthpy\n",
            "Successfully installed affine-2.3.0 click-plugins-1.1.1 cligj-0.5.0 earthpy-0.9.2 fiona-1.8.13.post1 geopandas-0.8.1 munch-2.5.0 pyproj-2.6.1.post1 rasterio-1.1.5 snuggs-1.4.7\n"
          ],
          "name": "stdout"
        }
      ]
    },
    {
      "cell_type": "code",
      "metadata": {
        "id": "-f1zbIHk21DR",
        "colab_type": "code",
        "colab": {
          "base_uri": "https://localhost:8080/",
          "height": 70
        },
        "outputId": "8ed388ae-5eb9-45fe-d76f-49db95f49a05"
      },
      "source": [
        "#Import modules\n",
        "from matplotlib.axes._axes import _log as matplotlib_axes_logger\n",
        "import os\n",
        "import matplotlib.pyplot as plt\n",
        "import seaborn as sns\n",
        "import pandas as pd\n",
        "import earthpy as et"
      ],
      "execution_count": 3,
      "outputs": [
        {
          "output_type": "stream",
          "text": [
            "/usr/local/lib/python3.6/dist-packages/statsmodels/tools/_testing.py:19: FutureWarning: pandas.util.testing is deprecated. Use the functions in the public API at pandas.testing instead.\n",
            "  import pandas.util.testing as tm\n"
          ],
          "name": "stderr"
        }
      ]
    },
    {
      "cell_type": "code",
      "metadata": {
        "id": "I-br5xfm3RE7",
        "colab_type": "code",
        "colab": {}
      },
      "source": [
        "#Handle date and time conventions between pandas and matplotlib\n",
        "from pandas.plotting import register_matplotlib_converters\n",
        "register_matplotlib_converters()"
      ],
      "execution_count": 4,
      "outputs": []
    },
    {
      "cell_type": "code",
      "metadata": {
        "id": "ZySdQhEJ37vu",
        "colab_type": "code",
        "colab": {}
      },
      "source": [
        "#Dealing with errors thrown by one of the plots\n",
        "matplotlib_axes_logger.setLevel('ERROR')"
      ],
      "execution_count": 5,
      "outputs": []
    },
    {
      "cell_type": "code",
      "metadata": {
        "id": "6wAE3uID4MdH",
        "colab_type": "code",
        "colab": {}
      },
      "source": [
        "#Set seaborn presets\n",
        "sns.set(font_scale=1.5, style=\"darkgrid\")"
      ],
      "execution_count": 6,
      "outputs": []
    },
    {
      "cell_type": "code",
      "metadata": {
        "id": "RGUfJZxX4gSd",
        "colab_type": "code",
        "colab": {}
      },
      "source": [
        "precip = pd.read_csv(\"/content/drive/My Drive/earth-analytics/colorado-flood/precipitation/805325-precip-daily-2003-2013.csv\")"
      ],
      "execution_count": 8,
      "outputs": []
    },
    {
      "cell_type": "code",
      "metadata": {
        "id": "193IgJhr5018",
        "colab_type": "code",
        "colab": {
          "base_uri": "https://localhost:8080/",
          "height": 316
        },
        "outputId": "1ba6f120-3610-4d32-ad6a-7bdfa418dc31"
      },
      "source": [
        "precip.head()"
      ],
      "execution_count": 9,
      "outputs": [
        {
          "output_type": "execute_result",
          "data": {
            "text/html": [
              "<div>\n",
              "<style scoped>\n",
              "    .dataframe tbody tr th:only-of-type {\n",
              "        vertical-align: middle;\n",
              "    }\n",
              "\n",
              "    .dataframe tbody tr th {\n",
              "        vertical-align: top;\n",
              "    }\n",
              "\n",
              "    .dataframe thead th {\n",
              "        text-align: right;\n",
              "    }\n",
              "</style>\n",
              "<table border=\"1\" class=\"dataframe\">\n",
              "  <thead>\n",
              "    <tr style=\"text-align: right;\">\n",
              "      <th></th>\n",
              "      <th>STATION</th>\n",
              "      <th>STATION_NAME</th>\n",
              "      <th>ELEVATION</th>\n",
              "      <th>LATITUDE</th>\n",
              "      <th>LONGITUDE</th>\n",
              "      <th>DATE</th>\n",
              "      <th>HPCP</th>\n",
              "      <th>Measurement Flag</th>\n",
              "      <th>Quality Flag</th>\n",
              "    </tr>\n",
              "  </thead>\n",
              "  <tbody>\n",
              "    <tr>\n",
              "      <th>0</th>\n",
              "      <td>COOP:050843</td>\n",
              "      <td>BOULDER 2 CO US</td>\n",
              "      <td>1650.5</td>\n",
              "      <td>40.03389</td>\n",
              "      <td>-105.28111</td>\n",
              "      <td>20030101 01:00</td>\n",
              "      <td>0.0</td>\n",
              "      <td>g</td>\n",
              "      <td></td>\n",
              "    </tr>\n",
              "    <tr>\n",
              "      <th>1</th>\n",
              "      <td>COOP:050843</td>\n",
              "      <td>BOULDER 2 CO US</td>\n",
              "      <td>1650.5</td>\n",
              "      <td>40.03389</td>\n",
              "      <td>-105.28111</td>\n",
              "      <td>20030201 01:00</td>\n",
              "      <td>0.0</td>\n",
              "      <td>g</td>\n",
              "      <td></td>\n",
              "    </tr>\n",
              "    <tr>\n",
              "      <th>2</th>\n",
              "      <td>COOP:050843</td>\n",
              "      <td>BOULDER 2 CO US</td>\n",
              "      <td>1650.5</td>\n",
              "      <td>40.03389</td>\n",
              "      <td>-105.28111</td>\n",
              "      <td>20030202 19:00</td>\n",
              "      <td>0.2</td>\n",
              "      <td></td>\n",
              "      <td></td>\n",
              "    </tr>\n",
              "    <tr>\n",
              "      <th>3</th>\n",
              "      <td>COOP:050843</td>\n",
              "      <td>BOULDER 2 CO US</td>\n",
              "      <td>1650.5</td>\n",
              "      <td>40.03389</td>\n",
              "      <td>-105.28111</td>\n",
              "      <td>20030202 22:00</td>\n",
              "      <td>0.1</td>\n",
              "      <td></td>\n",
              "      <td></td>\n",
              "    </tr>\n",
              "    <tr>\n",
              "      <th>4</th>\n",
              "      <td>COOP:050843</td>\n",
              "      <td>BOULDER 2 CO US</td>\n",
              "      <td>1650.5</td>\n",
              "      <td>40.03389</td>\n",
              "      <td>-105.28111</td>\n",
              "      <td>20030203 02:00</td>\n",
              "      <td>0.1</td>\n",
              "      <td></td>\n",
              "      <td></td>\n",
              "    </tr>\n",
              "  </tbody>\n",
              "</table>\n",
              "</div>"
            ],
            "text/plain": [
              "       STATION     STATION_NAME  ELEVATION  ...  HPCP  Measurement Flag Quality Flag\n",
              "0  COOP:050843  BOULDER 2 CO US     1650.5  ...   0.0                 g             \n",
              "1  COOP:050843  BOULDER 2 CO US     1650.5  ...   0.0                 g             \n",
              "2  COOP:050843  BOULDER 2 CO US     1650.5  ...   0.2                               \n",
              "3  COOP:050843  BOULDER 2 CO US     1650.5  ...   0.1                               \n",
              "4  COOP:050843  BOULDER 2 CO US     1650.5  ...   0.1                               \n",
              "\n",
              "[5 rows x 9 columns]"
            ]
          },
          "metadata": {
            "tags": []
          },
          "execution_count": 9
        }
      ]
    },
    {
      "cell_type": "code",
      "metadata": {
        "id": "gzul6xhE52_7",
        "colab_type": "code",
        "colab": {
          "base_uri": "https://localhost:8080/",
          "height": 318
        },
        "outputId": "4d5b4939-70c2-4f42-8329-67aa8889979e"
      },
      "source": [
        "precip.plot(x=\"DATE\",\n",
        "            y=\"HPCP\",\n",
        "            title=\"Daily Precipitation\")\n",
        "plt.show()"
      ],
      "execution_count": 11,
      "outputs": [
        {
          "output_type": "display_data",
          "data": {
            "image/png": "[encoded data removed]",
            "text/plain": [
              "<Figure size 432x288 with 1 Axes>"
            ]
          },
          "metadata": {
            "tags": []
          }
        }
      ]
    },
    {
      "cell_type": "code",
      "metadata": {
        "id": "NSGvyQRx6Oep",
        "colab_type": "code",
        "colab": {}
      },
      "source": [
        ""
      ],
      "execution_count": null,
      "outputs": []
    }
  ]
}