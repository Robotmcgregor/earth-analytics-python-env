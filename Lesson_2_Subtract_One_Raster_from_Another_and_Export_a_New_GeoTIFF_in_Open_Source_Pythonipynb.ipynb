{
  "nbformat": 4,
  "nbformat_minor": 0,
  "metadata": {
    "colab": {
      "name": "Lesson 2. Subtract One Raster from Another and Export a New GeoTIFF in Open Source Pythonipynb",
      "provenance": [],
      "authorship_tag": "ABX9TyO/ycLuxgaY1st8FF069h1Y",
      "include_colab_link": true
    },
    "kernelspec": {
      "name": "python3",
      "display_name": "Python 3"
    }
  },
  "cells": [
    {
      "cell_type": "markdown",
      "metadata": {
        "id": "view-in-github",
        "colab_type": "text"
      },
      "source": [
        "<a href=\"https://colab.research.google.com/github/Robotmcgregor/earth-analytics-python-env/blob/master/Lesson_2_Subtract_One_Raster_from_Another_and_Export_a_New_GeoTIFF_in_Open_Source_Pythonipynb.ipynb\" target=\"_parent\"><img src=\"https://colab.research.google.com/assets/colab-badge.svg\" alt=\"Open In Colab\"/></a>"
      ]
    },
    {
      "cell_type": "markdown",
      "metadata": {
        "id": "uDDB-UuhiiOR",
        "colab_type": "text"
      },
      "source": [
        "Lesson 2. Subtract One Raster from Another and Export a New GeoTIFF in Open Source Python"
      ]
    },
    {
      "cell_type": "markdown",
      "metadata": {
        "id": "sJN5bcoJ1eRE",
        "colab_type": "text"
      },
      "source": [
        "https://www.earthdatascience.org/courses/use-data-open-source-python/intro-raster-data-python/raster-data-processing/subtract-rasters-in-python/"
      ]
    },
    {
      "cell_type": "markdown",
      "metadata": {
        "id": "6CZSPjMaikuH",
        "colab_type": "text"
      },
      "source": [
        ""
      ]
    },
    {
      "cell_type": "code",
      "metadata": {
        "id": "X_o787gKipqL",
        "colab_type": "code",
        "colab": {}
      },
      "source": [
        "import os\n",
        "import matplotlib.pyplot as plt\n",
        "from matplotlib.patches import Patch\n",
        "from matplotlib "
      ],
      "execution_count": null,
      "outputs": []
    },
    {
      "cell_type": "markdown",
      "metadata": {
        "id": "JltPPRRBipIe",
        "colab_type": "text"
      },
      "source": [
        ""
      ]
    }
  ]
}