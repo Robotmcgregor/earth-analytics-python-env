{
  "nbformat": 4,
  "nbformat_minor": 0,
  "metadata": {
    "colab": {
      "name": "Mastering_geospatial.ipynb",
      "provenance": [],
      "authorship_tag": "ABX9TyOd6wC6UvMHR0RfY58JXsWn",
      "include_colab_link": true
    },
    "kernelspec": {
      "name": "python3",
      "display_name": "Python 3"
    }
  },
  "cells": [
    {
      "cell_type": "markdown",
      "metadata": {
        "id": "view-in-github",
        "colab_type": "text"
      },
      "source": [
        "<a href=\"https://colab.research.google.com/github/Robotmcgregor/earth-analytics-python-env/blob/master/Mastering_geospatial.ipynb\" target=\"_parent\"><img src=\"https://colab.research.google.com/assets/colab-badge.svg\" alt=\"Open In Colab\"/></a>"
      ]
    },
    {
      "cell_type": "code",
      "metadata": {
        "id": "16uM2ubatJYo",
        "colab_type": "code",
        "colab": {
          "base_uri": "https://localhost:8080/",
          "height": 258
        },
        "outputId": "de795aed-bd6b-436d-c592-bf907cddb605"
      },
      "source": [
        "pip install geos"
      ],
      "execution_count": 4,
      "outputs": [
        {
          "output_type": "stream",
          "text": [
            "Collecting geos\n",
            "\u001b[?25l  Downloading https://files.pythonhosted.org/packages/7a/1c/a7ae7e2685719b31dbde13e90c6386f872b8ee2670d833f4211b4e3d5106/geos-0.2.2-py3-none-any.whl (368kB)\n",
            "\r\u001b[K     |█                               | 10kB 18.6MB/s eta 0:00:01\r\u001b[K     |█▉                              | 20kB 1.6MB/s eta 0:00:01\r\u001b[K     |██▊                             | 30kB 1.8MB/s eta 0:00:01\r\u001b[K     |███▋                            | 40kB 2.1MB/s eta 0:00:01\r\u001b[K     |████▌                           | 51kB 2.0MB/s eta 0:00:01\r\u001b[K     |█████▍                          | 61kB 2.2MB/s eta 0:00:01\r\u001b[K     |██████▎                         | 71kB 2.4MB/s eta 0:00:01\r\u001b[K     |███████▏                        | 81kB 2.6MB/s eta 0:00:01\r\u001b[K     |████████                        | 92kB 2.7MB/s eta 0:00:01\r\u001b[K     |█████████                       | 102kB 2.7MB/s eta 0:00:01\r\u001b[K     |█████████▉                      | 112kB 2.7MB/s eta 0:00:01\r\u001b[K     |██████████▊                     | 122kB 2.7MB/s eta 0:00:01\r\u001b[K     |███████████▋                    | 133kB 2.7MB/s eta 0:00:01\r\u001b[K     |████████████▌                   | 143kB 2.7MB/s eta 0:00:01\r\u001b[K     |█████████████▍                  | 153kB 2.7MB/s eta 0:00:01\r\u001b[K     |██████████████▎                 | 163kB 2.7MB/s eta 0:00:01\r\u001b[K     |███████████████▏                | 174kB 2.7MB/s eta 0:00:01\r\u001b[K     |████████████████                | 184kB 2.7MB/s eta 0:00:01\r\u001b[K     |█████████████████               | 194kB 2.7MB/s eta 0:00:01\r\u001b[K     |█████████████████▉              | 204kB 2.7MB/s eta 0:00:01\r\u001b[K     |██████████████████▊             | 215kB 2.7MB/s eta 0:00:01\r\u001b[K     |███████████████████▋            | 225kB 2.7MB/s eta 0:00:01\r\u001b[K     |████████████████████▌           | 235kB 2.7MB/s eta 0:00:01\r\u001b[K     |█████████████████████▍          | 245kB 2.7MB/s eta 0:00:01\r\u001b[K     |██████████████████████▎         | 256kB 2.7MB/s eta 0:00:01\r\u001b[K     |███████████████████████▏        | 266kB 2.7MB/s eta 0:00:01\r\u001b[K     |████████████████████████        | 276kB 2.7MB/s eta 0:00:01\r\u001b[K     |█████████████████████████       | 286kB 2.7MB/s eta 0:00:01\r\u001b[K     |█████████████████████████▉      | 296kB 2.7MB/s eta 0:00:01\r\u001b[K     |██████████████████████████▊     | 307kB 2.7MB/s eta 0:00:01\r\u001b[K     |███████████████████████████▋    | 317kB 2.7MB/s eta 0:00:01\r\u001b[K     |████████████████████████████▌   | 327kB 2.7MB/s eta 0:00:01\r\u001b[K     |█████████████████████████████▍  | 337kB 2.7MB/s eta 0:00:01\r\u001b[K     |██████████████████████████████▎ | 348kB 2.7MB/s eta 0:00:01\r\u001b[K     |███████████████████████████████▏| 358kB 2.7MB/s eta 0:00:01\r\u001b[K     |████████████████████████████████| 368kB 2.7MB/s \n",
            "\u001b[?25hRequirement already satisfied: pillow in /usr/local/lib/python3.6/dist-packages (from geos) (7.0.0)\n",
            "Requirement already satisfied: lxml in /usr/local/lib/python3.6/dist-packages (from geos) (4.2.6)\n",
            "Requirement already satisfied: flask in /usr/local/lib/python3.6/dist-packages (from geos) (1.1.2)\n",
            "Requirement already satisfied: itsdangerous>=0.24 in /usr/local/lib/python3.6/dist-packages (from flask->geos) (1.1.0)\n",
            "Requirement already satisfied: Jinja2>=2.10.1 in /usr/local/lib/python3.6/dist-packages (from flask->geos) (2.11.2)\n",
            "Requirement already satisfied: click>=5.1 in /usr/local/lib/python3.6/dist-packages (from flask->geos) (7.1.2)\n",
            "Requirement already satisfied: Werkzeug>=0.15 in /usr/local/lib/python3.6/dist-packages (from flask->geos) (1.0.1)\n",
            "Requirement already satisfied: MarkupSafe>=0.23 in /usr/local/lib/python3.6/dist-packages (from Jinja2>=2.10.1->flask->geos) (1.1.1)\n",
            "Installing collected packages: geos\n",
            "Successfully installed geos-0.2.2\n"
          ],
          "name": "stdout"
        }
      ]
    },
    {
      "cell_type": "code",
      "metadata": {
        "id": "daO6cVnetA9K",
        "colab_type": "code",
        "colab": {}
      },
      "source": [
        "import gdal\n",
        "import ogr\n",
        "import geos\n",
        "\n"
      ],
      "execution_count": 1,
      "outputs": []
    },
    {
      "cell_type": "code",
      "metadata": {
        "id": "RGaMKSv_thmg",
        "colab_type": "code",
        "colab": {}
      },
      "source": [
        ""
      ],
      "execution_count": null,
      "outputs": []
    }
  ]
}